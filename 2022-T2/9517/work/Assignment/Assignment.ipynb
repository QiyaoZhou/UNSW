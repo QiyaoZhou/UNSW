{
 "cells": [
  {
   "cell_type": "code",
   "execution_count": 2,
   "id": "b10ae016",
   "metadata": {},
   "outputs": [],
   "source": [
    "import cv2\n",
    "import numpy as np\n",
    "import matplotlib.pyplot as plt"
   ]
  },
  {
   "cell_type": "code",
   "execution_count": 3,
   "id": "134d2ce3",
   "metadata": {},
   "outputs": [],
   "source": [
    "#Initial setup\n",
    "M = 0\n",
    "N = 3\n",
    "#M for mark and N for neighbourhood size"
   ]
  },
  {
   "cell_type": "code",
   "execution_count": 4,
   "id": "9690e2c2",
   "metadata": {},
   "outputs": [],
   "source": [
    "def max_min_filter(ksize,img,flag):\n",
    "    result = img.copy()\n",
    "    for i in range(img.shape[0]):\n",
    "        for j in range(img.shape[1]):\n",
    "            x1 = -ksize // 2\n",
    "            y1 = -ksize // 2\n",
    "            x2 = ksize + x1\n",
    "            y2 = ksize + x1\n",
    "            temp = np.zeros(ksize * ksize)\n",
    "            count = 0\n",
    "            for m in range(x1, x2):\n",
    "                for n in range(y1, y2):\n",
    "                    if i + m < 0 or i + m > img.shape[0] - 1 or j + n < 0 or j + n > img.shape[1] - 1:\n",
    "                        temp[count] = img[i, j]\n",
    "                    else:\n",
    "                        temp[count] = img[i + m, j + n]\n",
    "                    count = count + 1\n",
    "                    if flag == 0:\n",
    "                        result[i,j] = np.max(temp)\n",
    "                    elif flag == 1:\n",
    "                        result[i,j] = np.min(temp)\n",
    "    return result"
   ]
  },
  {
   "cell_type": "code",
   "execution_count": 7,
   "id": "ec36e48d",
   "metadata": {},
   "outputs": [
    {
     "data": {
      "text/plain": [
       "-1"
      ]
     },
     "execution_count": 7,
     "metadata": {},
     "output_type": "execute_result"
    }
   ],
   "source": [
    "I1 = cv2.imread('Milkyway.png',cv2.IMREAD_GRAYSCALE)\n",
    "A1 = I1.copy()\n",
    "A1 = max_min_filter(7,A1,1)\n",
    "B1 = A1.copy()\n",
    "B1 = max_min_filter(41,B1,0)\n",
    "O1 =cv2.subtract(I1,B1)\n",
    "cv2.imshow('Result1',O1)\n",
    "cv2.imwrite('result_Milkyway.png',O1)\n",
    "cv2.waitKey(0)"
   ]
  },
  {
   "cell_type": "code",
   "execution_count": null,
   "id": "6c42add8",
   "metadata": {},
   "outputs": [],
   "source": [
    "I2 = cv2.imread('Cells.png',cv2.IMREAD_GRAYSCALE)\n",
    "A2 = I2.copy()\n",
    "A2 = max_min_filter(3,A2,0)\n",
    "B2 = A2.copy()\n",
    "B2 = max_min_filter(3,B2,1)\n",
    "O2 = cv2.addWeighted(I2, 1, B2, -1, 255)\n",
    "cv2.imshow('Result2',O2)\n",
    "cv2.imwrite('result_Cells.png',O2)\n",
    "cv2.waitKey(0)"
   ]
  },
  {
   "cell_type": "code",
   "execution_count": 16,
   "id": "fd5b7aee",
   "metadata": {},
   "outputs": [
    {
     "data": {
      "text/plain": [
       "-1"
      ]
     },
     "execution_count": 16,
     "metadata": {},
     "output_type": "execute_result"
    }
   ],
   "source": [
    "I = cv2.imread('#input image#',cv2.IMREAD_GRAYSCALE)\n",
    "if M == 0:\n",
    "    A = I.copy()\n",
    "    A = max_min_filter(N,A,1)\n",
    "    B = A.copy()\n",
    "    B = max_min_filter(N,B,0)\n",
    "    O =cv2.subtract(I,B)\n",
    "elif M == 1:\n",
    "    A = I.copy()\n",
    "    A = max_min_filter(N,A,0)\n",
    "    B = A.copy()\n",
    "    B = max_min_filter(N,B,1)\n",
    "    O = cv2.addWeighted(I, 1, B, -1, 255)\n",
    "cv2.imshow('Result',O)\n",
    "cv2.imwrite('result.png',O)\n",
    "cv2.waitKey(0)"
   ]
  }
 ],
 "metadata": {
  "kernelspec": {
   "display_name": "Python 3 (ipykernel)",
   "language": "python",
   "name": "python3"
  },
  "language_info": {
   "codemirror_mode": {
    "name": "ipython",
    "version": 3
   },
   "file_extension": ".py",
   "mimetype": "text/x-python",
   "name": "python",
   "nbconvert_exporter": "python",
   "pygments_lexer": "ipython3",
   "version": "3.9.12"
  }
 },
 "nbformat": 4,
 "nbformat_minor": 5
}
