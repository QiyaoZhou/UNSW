{
 "cells": [
  {
   "cell_type": "code",
   "execution_count": null,
   "id": "5f300fed",
   "metadata": {},
   "outputs": [],
   "source": [
    "import cv2\n",
    "import matplotlib.pyplot as plt\n",
    "import numpy as np\n",
    "print(cv2.__version__)"
   ]
  },
  {
   "cell_type": "code",
   "execution_count": null,
   "id": "f2fa2545",
   "metadata": {},
   "outputs": [],
   "source": [
    "img1 = cv2.imread('Kitten.png',flags = cv2.IMREAD_GRAYSCALE)\n",
    "#cv2.imshow('image',img1)\n",
    "#cv2.waitKey(0)\n",
    "plt.imshow(img1,cmap = 'gray',vmin = 0,vmax = 255)\n",
    "print(img1.shape)\n",
    "c = np.amin(img1)\n",
    "d = np.amax(img1)\n",
    "[rows,cols]=img1.shape\n",
    "img2 = np.empty([rows,cols], dtype = int)\n",
    "for i in range(rows-1):\n",
    "    for j in range(cols-1):\n",
    "        img2[i,j] = np.around((img1[i,j] - c)*255/(d-c))\n",
    "plt.imshow(img2,cmap = 'gray',vmin = 0,vmax = 255)"
   ]
  },
  {
   "cell_type": "code",
   "execution_count": null,
   "id": "9617d576",
   "metadata": {},
   "outputs": [],
   "source": []
  }
 ],
 "metadata": {
  "kernelspec": {
   "display_name": "Python 3 (ipykernel)",
   "language": "python",
   "name": "python3"
  },
  "language_info": {
   "codemirror_mode": {
    "name": "ipython",
    "version": 3
   },
   "file_extension": ".py",
   "mimetype": "text/x-python",
   "name": "python",
   "nbconvert_exporter": "python",
   "pygments_lexer": "ipython3",
   "version": "3.9.12"
  }
 },
 "nbformat": 4,
 "nbformat_minor": 5
}
