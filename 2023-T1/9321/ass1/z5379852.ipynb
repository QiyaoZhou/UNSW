{
 "cells": [
  {
   "cell_type": "code",
   "execution_count": 1,
   "id": "3f47f5cf",
   "metadata": {},
   "outputs": [],
   "source": [
    "import json\n",
    "import matplotlib.pyplot as plt\n",
    "import pandas as pd\n",
    "import sys\n",
    "import os\n",
    "import numpy as np\n",
    "import math\n",
    "import re"
   ]
  },
  {
   "cell_type": "code",
   "execution_count": 2,
   "id": "d6b6875f",
   "metadata": {},
   "outputs": [],
   "source": [
    "def question_1(city_pairs):\n",
    "    \"\"\"\n",
    "    :return: df1\n",
    "            Data Type: Dataframe\n",
    "            Please read the assignment specs to know how to create the output dataframe\n",
    "    \"\"\"\n",
    "\n",
    "    #################################################\n",
    "    # Your code goes here ...\n",
    "    def check(stuff_in, stuff_out):\n",
    "        if stuff_in > stuff_out:\n",
    "            result = 'in'\n",
    "        elif stuff_in < stuff_out:\n",
    "            result = 'out'\n",
    "        else:\n",
    "            result = 'same'\n",
    "        return result\n",
    "\n",
    "    df1 = pd.read_csv(city_pairs)\n",
    "    df1['passenger_in_out'] = df1.apply(lambda x: check(x['Passengers_In'], x['Passengers_Out']), axis=1)\n",
    "    df1['freight_in_out'] = df1.apply(lambda x: check(x['Freight_In_(tonnes)'], x['Freight_Out_(tonnes)']), axis=1)\n",
    "    df1['mail_in_out'] = df1.apply(lambda x: check(x['Mail_In_(tonnes)'], x['Mail_Out_(tonnes)']), axis=1)\n",
    "    #################################################\n",
    "\n",
    "    log(\"QUESTION 1\", output_df=df1[[\"AustralianPort\", \"ForeignPort\", \"passenger_in_out\", \"freight_in_out\", \"mail_in_out\"]], other=df1.shape)\n",
    "    return df1"
   ]
  },
  {
   "cell_type": "code",
   "execution_count": 3,
   "id": "82f8665d",
   "metadata": {},
   "outputs": [],
   "source": [
    "def question_2(df1):\n",
    "    \"\"\"\n",
    "    :param df1: the dataframe created in question 1\n",
    "    :return: dataframe df2\n",
    "            Please read the assignment specs to know how to create the output dataframe\n",
    "    \"\"\"\n",
    "\n",
    "    #################################################\n",
    "    # Your code goes here ...\n",
    "    df2 = df1.groupby(['AustralianPort']).agg(\n",
    "        PassengerInCount=pd.NamedAgg(column='Passengers_In', aggfunc='sum'),\n",
    "        PassengerOutCount=pd.NamedAgg(column='Passengers_Out', aggfunc='sum'),\n",
    "        FreightInCount=pd.NamedAgg(column='Freight_In_(tonnes)', aggfunc='sum'),\n",
    "        FreightOutCount=pd.NamedAgg(column='Freight_Out_(tonnes)', aggfunc='sum'),\n",
    "        MailInCount=pd.NamedAgg(column='Mail_In_(tonnes)', aggfunc='sum'),\n",
    "        MailOutCount=pd.NamedAgg(column='Mail_Out_(tonnes)', aggfunc='sum'),\n",
    "    ).sort_values(['PassengerInCount'], axis=0, ascending=False).reset_index()\n",
    "    #################################################\n",
    "\n",
    "    log(\"QUESTION 2\", output_df=df2, other=df2.shape)\n",
    "    return df2"
   ]
  },
  {
   "cell_type": "code",
   "execution_count": 4,
   "id": "4ce2df54",
   "metadata": {},
   "outputs": [
    {
     "name": "stdout",
     "output_type": "stream",
     "text": [
      "--------------- QUESTION 1----------------\n",
      "QUESTION 1 (84464, 18)\n",
      "  Australian... ForeignPor... passenger_... freight_in... mail_in_ou...\n",
      "0      Adelaide      Auckland            in            in           out\n",
      "1      Adelaide       Bahrain            in           out          same\n",
      "2      Adelaide        Bombay            in          same          same\n",
      "3      Adelaide     Frankfurt           out            in           out\n",
      "4      Adelaide        London            in           out           out\n",
      "--------------- QUESTION 2----------------\n",
      "QUESTION 2 (19, 7)\n",
      "  Australian...  PassengerI...  PassengerO...  FreightInC...  FreightOut...  MailInCoun...  MailOutCou...\n",
      "0        Sydney      157895585      158774418    7628470.105    5314410.030     399817.308     213428.341\n",
      "1     Melbourne       80803036       79170733    3456238.155    3505481.636     159063.391      89822.888\n",
      "2      Brisbane       55754457       53524103    1232259.783    1575695.388      47574.805      48376.936\n",
      "3         Perth       38997804       37719180     887435.237    1248103.749      25367.878      19038.641\n",
      "4        Cairns        9880903        9584036      65008.439     176669.462       1302.701       2500.763\n"
     ]
    }
   ],
   "source": [
    "def log(question, output_df, other):\n",
    "    print(\"--------------- {}----------------\".format(question))\n",
    "\n",
    "    if other is not None:\n",
    "        print(question, other)\n",
    "    if output_df is not None:\n",
    "        df = output_df.head(5).copy(True)\n",
    "        for c in df.columns:\n",
    "            df[c] = df[c].apply(lambda a: a[:20] if isinstance(a, str) else a)\n",
    "\n",
    "        df.columns = [a[:10] + \"...\" for a in df.columns]\n",
    "        print(df.to_string())\n",
    "\n",
    "\n",
    "df1 = question_1(\"city_pairs.csv\")\n",
    "df2 = question_2(df1.copy(True))"
   ]
  },
  {
   "cell_type": "code",
   "execution_count": null,
   "id": "2c06cace",
   "metadata": {},
   "outputs": [],
   "source": []
  },
  {
   "cell_type": "code",
   "execution_count": null,
   "id": "32bc93e2",
   "metadata": {},
   "outputs": [],
   "source": []
  }
 ],
 "metadata": {
  "kernelspec": {
   "display_name": "Python 3 (ipykernel)",
   "language": "python",
   "name": "python3"
  },
  "language_info": {
   "codemirror_mode": {
    "name": "ipython",
    "version": 3
   },
   "file_extension": ".py",
   "mimetype": "text/x-python",
   "name": "python",
   "nbconvert_exporter": "python",
   "pygments_lexer": "ipython3",
   "version": "3.9.12"
  }
 },
 "nbformat": 4,
 "nbformat_minor": 5
}
