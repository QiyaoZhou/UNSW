{
 "cells": [
  {
   "cell_type": "code",
   "execution_count": 95,
   "id": "ee9a601d",
   "metadata": {},
   "outputs": [],
   "source": [
    "import pandas as pd\n",
    "import numpy as np\n",
    "import matplotlib.pylab as plt\n",
    "import seaborn as sns\n",
    "from sklearn.ensemble import IsolationForest, AdaBoostRegressor, GradientBoostingRegressor\n",
    "from sklearn.preprocessing import LabelEncoder\n",
    "from sklearn.preprocessing import OneHotEncoder\n",
    "from sklearn.preprocessing import StandardScaler\n",
    "from sklearn.model_selection import train_test_split\n",
    "from sklearn.feature_selection import r_regression, f_classif, SelectKBest\n",
    "from scipy.stats import pearsonr\n",
    "from sklearn.linear_model import SGDRegressor, LinearRegression\n",
    "from sklearn import tree\n",
    "from sklearn.metrics import classification_report"
   ]
  },
  {
   "cell_type": "code",
   "execution_count": 96,
   "id": "44730608",
   "metadata": {},
   "outputs": [],
   "source": [
    "train_data = pd.read_csv(\"train.tsv\", sep='\\t')\n",
    "test_data = pd.read_csv(\"test.tsv\", sep='\\t')"
   ]
  },
  {
   "cell_type": "code",
   "execution_count": 97,
   "id": "75f6fb65",
   "metadata": {},
   "outputs": [
    {
     "data": {
      "text/html": [
       "<div>\n",
       "<style scoped>\n",
       "    .dataframe tbody tr th:only-of-type {\n",
       "        vertical-align: middle;\n",
       "    }\n",
       "\n",
       "    .dataframe tbody tr th {\n",
       "        vertical-align: top;\n",
       "    }\n",
       "\n",
       "    .dataframe thead th {\n",
       "        text-align: right;\n",
       "    }\n",
       "</style>\n",
       "<table border=\"1\" class=\"dataframe\">\n",
       "  <thead>\n",
       "    <tr style=\"text-align: right;\">\n",
       "      <th></th>\n",
       "      <th>Number_of_Shops_Around_ATM</th>\n",
       "      <th>ATM_Zone</th>\n",
       "      <th>No_of_Other_ATMs_in_1_KM_radius</th>\n",
       "      <th>Estimated_Number_of_Houses_in_1_KM_Radius</th>\n",
       "      <th>ATM_Placement</th>\n",
       "      <th>ATM_TYPE</th>\n",
       "      <th>ATM_Location_TYPE</th>\n",
       "      <th>ATM_looks</th>\n",
       "      <th>ATM_Attached_to</th>\n",
       "      <th>Average_Wait_Time</th>\n",
       "      <th>Day_Type</th>\n",
       "      <th>rating</th>\n",
       "      <th>revenue</th>\n",
       "    </tr>\n",
       "  </thead>\n",
       "  <tbody>\n",
       "    <tr>\n",
       "      <th>0</th>\n",
       "      <td>66</td>\n",
       "      <td>RL</td>\n",
       "      <td>65</td>\n",
       "      <td>8450</td>\n",
       "      <td>Facing Road</td>\n",
       "      <td>Urban</td>\n",
       "      <td>Only WIthdraw</td>\n",
       "      <td>Normal</td>\n",
       "      <td>Building</td>\n",
       "      <td>3</td>\n",
       "      <td>Working</td>\n",
       "      <td>4</td>\n",
       "      <td>209500</td>\n",
       "    </tr>\n",
       "    <tr>\n",
       "      <th>1</th>\n",
       "      <td>26</td>\n",
       "      <td>RL</td>\n",
       "      <td>80</td>\n",
       "      <td>9600</td>\n",
       "      <td>Facing Road</td>\n",
       "      <td>Urban</td>\n",
       "      <td>Only WIthdraw</td>\n",
       "      <td>Normal</td>\n",
       "      <td>Building</td>\n",
       "      <td>3</td>\n",
       "      <td>Working</td>\n",
       "      <td>3</td>\n",
       "      <td>184300</td>\n",
       "    </tr>\n",
       "    <tr>\n",
       "      <th>2</th>\n",
       "      <td>65</td>\n",
       "      <td>RL</td>\n",
       "      <td>68</td>\n",
       "      <td>11250</td>\n",
       "      <td>Facing Road</td>\n",
       "      <td>Town</td>\n",
       "      <td>Only WIthdraw</td>\n",
       "      <td>Normal</td>\n",
       "      <td>Building</td>\n",
       "      <td>3</td>\n",
       "      <td>Working</td>\n",
       "      <td>4</td>\n",
       "      <td>231500</td>\n",
       "    </tr>\n",
       "    <tr>\n",
       "      <th>3</th>\n",
       "      <td>80</td>\n",
       "      <td>RL</td>\n",
       "      <td>60</td>\n",
       "      <td>9550</td>\n",
       "      <td>Facing Road</td>\n",
       "      <td>Town</td>\n",
       "      <td>Only WIthdraw</td>\n",
       "      <td>Normal</td>\n",
       "      <td>Building</td>\n",
       "      <td>3</td>\n",
       "      <td>Working</td>\n",
       "      <td>4</td>\n",
       "      <td>143600</td>\n",
       "    </tr>\n",
       "    <tr>\n",
       "      <th>4</th>\n",
       "      <td>66</td>\n",
       "      <td>RL</td>\n",
       "      <td>84</td>\n",
       "      <td>14260</td>\n",
       "      <td>Facing Road</td>\n",
       "      <td>Town</td>\n",
       "      <td>Only WIthdraw</td>\n",
       "      <td>Normal</td>\n",
       "      <td>Building</td>\n",
       "      <td>4</td>\n",
       "      <td>Working</td>\n",
       "      <td>4</td>\n",
       "      <td>255600</td>\n",
       "    </tr>\n",
       "  </tbody>\n",
       "</table>\n",
       "</div>"
      ],
      "text/plain": [
       "   Number_of_Shops_Around_ATM ATM_Zone  No_of_Other_ATMs_in_1_KM_radius  \\\n",
       "0                          66       RL                               65   \n",
       "1                          26       RL                               80   \n",
       "2                          65       RL                               68   \n",
       "3                          80       RL                               60   \n",
       "4                          66       RL                               84   \n",
       "\n",
       "   Estimated_Number_of_Houses_in_1_KM_Radius ATM_Placement ATM_TYPE  \\\n",
       "0                                       8450   Facing Road    Urban   \n",
       "1                                       9600   Facing Road    Urban   \n",
       "2                                      11250   Facing Road     Town   \n",
       "3                                       9550   Facing Road     Town   \n",
       "4                                      14260   Facing Road     Town   \n",
       "\n",
       "  ATM_Location_TYPE ATM_looks ATM_Attached_to  Average_Wait_Time Day_Type  \\\n",
       "0     Only WIthdraw    Normal        Building                  3  Working   \n",
       "1     Only WIthdraw    Normal        Building                  3  Working   \n",
       "2     Only WIthdraw    Normal        Building                  3  Working   \n",
       "3     Only WIthdraw    Normal        Building                  3  Working   \n",
       "4     Only WIthdraw    Normal        Building                  4  Working   \n",
       "\n",
       "   rating  revenue  \n",
       "0       4   209500  \n",
       "1       3   184300  \n",
       "2       4   231500  \n",
       "3       4   143600  \n",
       "4       4   255600  "
      ]
     },
     "execution_count": 97,
     "metadata": {},
     "output_type": "execute_result"
    }
   ],
   "source": [
    "train_data.head()"
   ]
  },
  {
   "cell_type": "code",
   "execution_count": 98,
   "id": "16ca231e",
   "metadata": {},
   "outputs": [
    {
     "data": {
      "text/html": [
       "<div>\n",
       "<style scoped>\n",
       "    .dataframe tbody tr th:only-of-type {\n",
       "        vertical-align: middle;\n",
       "    }\n",
       "\n",
       "    .dataframe tbody tr th {\n",
       "        vertical-align: top;\n",
       "    }\n",
       "\n",
       "    .dataframe thead th {\n",
       "        text-align: right;\n",
       "    }\n",
       "</style>\n",
       "<table border=\"1\" class=\"dataframe\">\n",
       "  <thead>\n",
       "    <tr style=\"text-align: right;\">\n",
       "      <th></th>\n",
       "      <th>Number_of_Shops_Around_ATM</th>\n",
       "      <th>ATM_Zone</th>\n",
       "      <th>No_of_Other_ATMs_in_1_KM_radius</th>\n",
       "      <th>Estimated_Number_of_Houses_in_1_KM_Radius</th>\n",
       "      <th>ATM_Placement</th>\n",
       "      <th>ATM_TYPE</th>\n",
       "      <th>ATM_Location_TYPE</th>\n",
       "      <th>ATM_looks</th>\n",
       "      <th>ATM_Attached_to</th>\n",
       "      <th>Average_Wait_Time</th>\n",
       "      <th>Day_Type</th>\n",
       "      <th>rating</th>\n",
       "      <th>revenue</th>\n",
       "    </tr>\n",
       "  </thead>\n",
       "  <tbody>\n",
       "    <tr>\n",
       "      <th>0</th>\n",
       "      <td>81</td>\n",
       "      <td>RL</td>\n",
       "      <td>101</td>\n",
       "      <td>9150</td>\n",
       "      <td>Facing Road</td>\n",
       "      <td>Town</td>\n",
       "      <td>Only WIthdraw</td>\n",
       "      <td>Normal</td>\n",
       "      <td>Building</td>\n",
       "      <td>3</td>\n",
       "      <td>Working</td>\n",
       "      <td>3</td>\n",
       "      <td>172600</td>\n",
       "    </tr>\n",
       "    <tr>\n",
       "      <th>1</th>\n",
       "      <td>30</td>\n",
       "      <td>RL</td>\n",
       "      <td>78</td>\n",
       "      <td>7800</td>\n",
       "      <td>Facing Road</td>\n",
       "      <td>Urban</td>\n",
       "      <td>Only WIthdraw</td>\n",
       "      <td>Normal</td>\n",
       "      <td>Building</td>\n",
       "      <td>2</td>\n",
       "      <td>Working</td>\n",
       "      <td>3</td>\n",
       "      <td>133100</td>\n",
       "    </tr>\n",
       "    <tr>\n",
       "      <th>2</th>\n",
       "      <td>24</td>\n",
       "      <td>RL</td>\n",
       "      <td>87</td>\n",
       "      <td>9830</td>\n",
       "      <td>Facing Road</td>\n",
       "      <td>Town</td>\n",
       "      <td>Only WIthdraw</td>\n",
       "      <td>Normal</td>\n",
       "      <td>Building</td>\n",
       "      <td>3</td>\n",
       "      <td>Working</td>\n",
       "      <td>4</td>\n",
       "      <td>171700</td>\n",
       "    </tr>\n",
       "    <tr>\n",
       "      <th>3</th>\n",
       "      <td>66</td>\n",
       "      <td>RL</td>\n",
       "      <td>51</td>\n",
       "      <td>8121</td>\n",
       "      <td>Facing Road</td>\n",
       "      <td>Town</td>\n",
       "      <td>Only WIthdraw</td>\n",
       "      <td>Normal</td>\n",
       "      <td>Building</td>\n",
       "      <td>3</td>\n",
       "      <td>Working</td>\n",
       "      <td>3</td>\n",
       "      <td>176700</td>\n",
       "    </tr>\n",
       "    <tr>\n",
       "      <th>4</th>\n",
       "      <td>57</td>\n",
       "      <td>RL</td>\n",
       "      <td>80</td>\n",
       "      <td>17120</td>\n",
       "      <td>Facing Road</td>\n",
       "      <td>Urban</td>\n",
       "      <td>Only WIthdraw</td>\n",
       "      <td>Normal</td>\n",
       "      <td>Building</td>\n",
       "      <td>4</td>\n",
       "      <td>Working</td>\n",
       "      <td>3</td>\n",
       "      <td>138332</td>\n",
       "    </tr>\n",
       "  </tbody>\n",
       "</table>\n",
       "</div>"
      ],
      "text/plain": [
       "   Number_of_Shops_Around_ATM ATM_Zone  No_of_Other_ATMs_in_1_KM_radius  \\\n",
       "0                          81       RL                              101   \n",
       "1                          30       RL                               78   \n",
       "2                          24       RL                               87   \n",
       "3                          66       RL                               51   \n",
       "4                          57       RL                               80   \n",
       "\n",
       "   Estimated_Number_of_Houses_in_1_KM_Radius ATM_Placement ATM_TYPE  \\\n",
       "0                                       9150   Facing Road     Town   \n",
       "1                                       7800   Facing Road    Urban   \n",
       "2                                       9830   Facing Road     Town   \n",
       "3                                       8121   Facing Road     Town   \n",
       "4                                      17120   Facing Road    Urban   \n",
       "\n",
       "  ATM_Location_TYPE ATM_looks ATM_Attached_to  Average_Wait_Time Day_Type  \\\n",
       "0     Only WIthdraw    Normal        Building                  3  Working   \n",
       "1     Only WIthdraw    Normal        Building                  2  Working   \n",
       "2     Only WIthdraw    Normal        Building                  3  Working   \n",
       "3     Only WIthdraw    Normal        Building                  3  Working   \n",
       "4     Only WIthdraw    Normal        Building                  4  Working   \n",
       "\n",
       "   rating  revenue  \n",
       "0       3   172600  \n",
       "1       3   133100  \n",
       "2       4   171700  \n",
       "3       3   176700  \n",
       "4       3   138332  "
      ]
     },
     "execution_count": 98,
     "metadata": {},
     "output_type": "execute_result"
    }
   ],
   "source": [
    "test_data.head()"
   ]
  },
  {
   "cell_type": "code",
   "execution_count": 99,
   "id": "b32ebb19",
   "metadata": {},
   "outputs": [
    {
     "data": {
      "text/plain": [
       "array(['RL', 'RM', 'C', 'FV', 'RH'], dtype=object)"
      ]
     },
     "execution_count": 99,
     "metadata": {},
     "output_type": "execute_result"
    }
   ],
   "source": [
    "train_data[\"ATM_Zone\"].unique()"
   ]
  },
  {
   "cell_type": "code",
   "execution_count": 100,
   "id": "1519c861",
   "metadata": {},
   "outputs": [
    {
     "data": {
      "text/plain": [
       "array(['Working', 'Festival', 'Strike', 'National Holiday'], dtype=object)"
      ]
     },
     "execution_count": 100,
     "metadata": {},
     "output_type": "execute_result"
    }
   ],
   "source": [
    "train_data[\"Day_Type\"].unique()"
   ]
  },
  {
   "cell_type": "code",
   "execution_count": 101,
   "id": "c7da86c8",
   "metadata": {},
   "outputs": [
    {
     "data": {
      "text/plain": [
       "array(['Normal', 'New', 'Old and Dull'], dtype=object)"
      ]
     },
     "execution_count": 101,
     "metadata": {},
     "output_type": "execute_result"
    }
   ],
   "source": [
    "train_data[\"ATM_looks\"].unique()"
   ]
  },
  {
   "cell_type": "code",
   "execution_count": 102,
   "id": "b9479537",
   "metadata": {},
   "outputs": [
    {
     "name": "stdout",
     "output_type": "stream",
     "text": [
      "<class 'pandas.core.frame.DataFrame'>\n",
      "RangeIndex: 150211 entries, 0 to 150210\n",
      "Data columns (total 13 columns):\n",
      " #   Column                                     Non-Null Count   Dtype \n",
      "---  ------                                     --------------   ----- \n",
      " 0   Number_of_Shops_Around_ATM                 150211 non-null  int64 \n",
      " 1   ATM_Zone                                   150211 non-null  object\n",
      " 2   No_of_Other_ATMs_in_1_KM_radius            150211 non-null  int64 \n",
      " 3   Estimated_Number_of_Houses_in_1_KM_Radius  150211 non-null  int64 \n",
      " 4   ATM_Placement                              150211 non-null  object\n",
      " 5   ATM_TYPE                                   150211 non-null  object\n",
      " 6   ATM_Location_TYPE                          150211 non-null  object\n",
      " 7   ATM_looks                                  150211 non-null  object\n",
      " 8   ATM_Attached_to                            150211 non-null  object\n",
      " 9   Average_Wait_Time                          150211 non-null  int64 \n",
      " 10  Day_Type                                   150211 non-null  object\n",
      " 11  rating                                     150211 non-null  int64 \n",
      " 12  revenue                                    150211 non-null  int64 \n",
      "dtypes: int64(6), object(7)\n",
      "memory usage: 14.9+ MB\n"
     ]
    }
   ],
   "source": [
    "train_data.info()"
   ]
  },
  {
   "cell_type": "code",
   "execution_count": 103,
   "id": "ef68d6ef",
   "metadata": {},
   "outputs": [
    {
     "name": "stdout",
     "output_type": "stream",
     "text": [
      "<class 'pandas.core.frame.DataFrame'>\n",
      "RangeIndex: 2836 entries, 0 to 2835\n",
      "Data columns (total 13 columns):\n",
      " #   Column                                     Non-Null Count  Dtype \n",
      "---  ------                                     --------------  ----- \n",
      " 0   Number_of_Shops_Around_ATM                 2836 non-null   int64 \n",
      " 1   ATM_Zone                                   2836 non-null   object\n",
      " 2   No_of_Other_ATMs_in_1_KM_radius            2836 non-null   int64 \n",
      " 3   Estimated_Number_of_Houses_in_1_KM_Radius  2836 non-null   int64 \n",
      " 4   ATM_Placement                              2836 non-null   object\n",
      " 5   ATM_TYPE                                   2836 non-null   object\n",
      " 6   ATM_Location_TYPE                          2836 non-null   object\n",
      " 7   ATM_looks                                  2836 non-null   object\n",
      " 8   ATM_Attached_to                            2836 non-null   object\n",
      " 9   Average_Wait_Time                          2836 non-null   int64 \n",
      " 10  Day_Type                                   2836 non-null   object\n",
      " 11  rating                                     2836 non-null   int64 \n",
      " 12  revenue                                    2836 non-null   int64 \n",
      "dtypes: int64(6), object(7)\n",
      "memory usage: 288.2+ KB\n"
     ]
    }
   ],
   "source": [
    "test_data.info()"
   ]
  },
  {
   "cell_type": "code",
   "execution_count": 104,
   "id": "c5f0d809",
   "metadata": {},
   "outputs": [],
   "source": [
    "one_hot_df = pd.get_dummies(train_data, columns=['ATM_Zone', 'ATM_Placement','ATM_TYPE','ATM_Location_TYPE','ATM_looks','ATM_Attached_to','Day_Type'])\n",
    "one_hot_cols = one_hot_df.columns.tolist()"
   ]
  },
  {
   "cell_type": "code",
   "execution_count": 105,
   "id": "ac08c8d9",
   "metadata": {},
   "outputs": [],
   "source": [
    "for col in one_hot_df.columns:\n",
    "    model = IsolationForest(contamination=0.05)\n",
    "    model.fit(one_hot_df[col].values.reshape(-1, 1))\n",
    "    one_hot_df[col+'_anomaly'] = pd.Series(model.predict(one_hot_df[col].values.reshape(-1, 1)))\n",
    "anomaly_cols = [col for col in one_hot_df.columns if '_anomaly' in col]\n",
    "anomaly_df = one_hot_df[anomaly_cols].replace({-1: 1, 1: 0})\n",
    "anomaly_df['total_anomaly'] = anomaly_df.sum(axis=1)\n",
    "drop_cols = anomaly_df[anomaly_df['total_anomaly'] > 0].index.tolist()\n",
    "train_df_without_outliers = one_hot_df.drop(drop_cols, axis=0)"
   ]
  },
  {
   "cell_type": "code",
   "execution_count": 106,
   "id": "a3f56646",
   "metadata": {},
   "outputs": [
    {
     "data": {
      "text/html": [
       "<div>\n",
       "<style scoped>\n",
       "    .dataframe tbody tr th:only-of-type {\n",
       "        vertical-align: middle;\n",
       "    }\n",
       "\n",
       "    .dataframe tbody tr th {\n",
       "        vertical-align: top;\n",
       "    }\n",
       "\n",
       "    .dataframe thead th {\n",
       "        text-align: right;\n",
       "    }\n",
       "</style>\n",
       "<table border=\"1\" class=\"dataframe\">\n",
       "  <thead>\n",
       "    <tr style=\"text-align: right;\">\n",
       "      <th></th>\n",
       "      <th>Number_of_Shops_Around_ATM</th>\n",
       "      <th>No_of_Other_ATMs_in_1_KM_radius</th>\n",
       "      <th>Estimated_Number_of_Houses_in_1_KM_Radius</th>\n",
       "      <th>Average_Wait_Time</th>\n",
       "      <th>rating</th>\n",
       "      <th>revenue</th>\n",
       "      <th>ATM_Zone_C</th>\n",
       "      <th>ATM_Zone_FV</th>\n",
       "      <th>ATM_Zone_RH</th>\n",
       "      <th>ATM_Zone_RL</th>\n",
       "      <th>...</th>\n",
       "      <th>ATM_Attached_to_Building</th>\n",
       "      <th>ATM_Attached_to_Flat</th>\n",
       "      <th>ATM_Attached_to_House</th>\n",
       "      <th>ATM_Attached_to_Petrol Bunk</th>\n",
       "      <th>ATM_Attached_to_Shed</th>\n",
       "      <th>ATM_Attached_to_Shop</th>\n",
       "      <th>Day_Type_Festival</th>\n",
       "      <th>Day_Type_National Holiday</th>\n",
       "      <th>Day_Type_Strike</th>\n",
       "      <th>Day_Type_Working</th>\n",
       "    </tr>\n",
       "  </thead>\n",
       "  <tbody>\n",
       "    <tr>\n",
       "      <th>0</th>\n",
       "      <td>66</td>\n",
       "      <td>65</td>\n",
       "      <td>8450</td>\n",
       "      <td>3</td>\n",
       "      <td>4</td>\n",
       "      <td>209500</td>\n",
       "      <td>0</td>\n",
       "      <td>0</td>\n",
       "      <td>0</td>\n",
       "      <td>1</td>\n",
       "      <td>...</td>\n",
       "      <td>1</td>\n",
       "      <td>0</td>\n",
       "      <td>0</td>\n",
       "      <td>0</td>\n",
       "      <td>0</td>\n",
       "      <td>0</td>\n",
       "      <td>0</td>\n",
       "      <td>0</td>\n",
       "      <td>0</td>\n",
       "      <td>1</td>\n",
       "    </tr>\n",
       "    <tr>\n",
       "      <th>1</th>\n",
       "      <td>26</td>\n",
       "      <td>80</td>\n",
       "      <td>9600</td>\n",
       "      <td>3</td>\n",
       "      <td>3</td>\n",
       "      <td>184300</td>\n",
       "      <td>0</td>\n",
       "      <td>0</td>\n",
       "      <td>0</td>\n",
       "      <td>1</td>\n",
       "      <td>...</td>\n",
       "      <td>1</td>\n",
       "      <td>0</td>\n",
       "      <td>0</td>\n",
       "      <td>0</td>\n",
       "      <td>0</td>\n",
       "      <td>0</td>\n",
       "      <td>0</td>\n",
       "      <td>0</td>\n",
       "      <td>0</td>\n",
       "      <td>1</td>\n",
       "    </tr>\n",
       "    <tr>\n",
       "      <th>2</th>\n",
       "      <td>65</td>\n",
       "      <td>68</td>\n",
       "      <td>11250</td>\n",
       "      <td>3</td>\n",
       "      <td>4</td>\n",
       "      <td>231500</td>\n",
       "      <td>0</td>\n",
       "      <td>0</td>\n",
       "      <td>0</td>\n",
       "      <td>1</td>\n",
       "      <td>...</td>\n",
       "      <td>1</td>\n",
       "      <td>0</td>\n",
       "      <td>0</td>\n",
       "      <td>0</td>\n",
       "      <td>0</td>\n",
       "      <td>0</td>\n",
       "      <td>0</td>\n",
       "      <td>0</td>\n",
       "      <td>0</td>\n",
       "      <td>1</td>\n",
       "    </tr>\n",
       "    <tr>\n",
       "      <th>3</th>\n",
       "      <td>80</td>\n",
       "      <td>60</td>\n",
       "      <td>9550</td>\n",
       "      <td>3</td>\n",
       "      <td>4</td>\n",
       "      <td>143600</td>\n",
       "      <td>0</td>\n",
       "      <td>0</td>\n",
       "      <td>0</td>\n",
       "      <td>1</td>\n",
       "      <td>...</td>\n",
       "      <td>1</td>\n",
       "      <td>0</td>\n",
       "      <td>0</td>\n",
       "      <td>0</td>\n",
       "      <td>0</td>\n",
       "      <td>0</td>\n",
       "      <td>0</td>\n",
       "      <td>0</td>\n",
       "      <td>0</td>\n",
       "      <td>1</td>\n",
       "    </tr>\n",
       "    <tr>\n",
       "      <th>4</th>\n",
       "      <td>66</td>\n",
       "      <td>84</td>\n",
       "      <td>14260</td>\n",
       "      <td>4</td>\n",
       "      <td>4</td>\n",
       "      <td>255600</td>\n",
       "      <td>0</td>\n",
       "      <td>0</td>\n",
       "      <td>0</td>\n",
       "      <td>1</td>\n",
       "      <td>...</td>\n",
       "      <td>1</td>\n",
       "      <td>0</td>\n",
       "      <td>0</td>\n",
       "      <td>0</td>\n",
       "      <td>0</td>\n",
       "      <td>0</td>\n",
       "      <td>0</td>\n",
       "      <td>0</td>\n",
       "      <td>0</td>\n",
       "      <td>1</td>\n",
       "    </tr>\n",
       "  </tbody>\n",
       "</table>\n",
       "<p>5 rows × 34 columns</p>\n",
       "</div>"
      ],
      "text/plain": [
       "   Number_of_Shops_Around_ATM  No_of_Other_ATMs_in_1_KM_radius  \\\n",
       "0                          66                               65   \n",
       "1                          26                               80   \n",
       "2                          65                               68   \n",
       "3                          80                               60   \n",
       "4                          66                               84   \n",
       "\n",
       "   Estimated_Number_of_Houses_in_1_KM_Radius  Average_Wait_Time  rating  \\\n",
       "0                                       8450                  3       4   \n",
       "1                                       9600                  3       3   \n",
       "2                                      11250                  3       4   \n",
       "3                                       9550                  3       4   \n",
       "4                                      14260                  4       4   \n",
       "\n",
       "   revenue  ATM_Zone_C  ATM_Zone_FV  ATM_Zone_RH  ATM_Zone_RL  ...  \\\n",
       "0   209500           0            0            0            1  ...   \n",
       "1   184300           0            0            0            1  ...   \n",
       "2   231500           0            0            0            1  ...   \n",
       "3   143600           0            0            0            1  ...   \n",
       "4   255600           0            0            0            1  ...   \n",
       "\n",
       "   ATM_Attached_to_Building  ATM_Attached_to_Flat  ATM_Attached_to_House  \\\n",
       "0                         1                     0                      0   \n",
       "1                         1                     0                      0   \n",
       "2                         1                     0                      0   \n",
       "3                         1                     0                      0   \n",
       "4                         1                     0                      0   \n",
       "\n",
       "   ATM_Attached_to_Petrol Bunk  ATM_Attached_to_Shed  ATM_Attached_to_Shop  \\\n",
       "0                            0                     0                     0   \n",
       "1                            0                     0                     0   \n",
       "2                            0                     0                     0   \n",
       "3                            0                     0                     0   \n",
       "4                            0                     0                     0   \n",
       "\n",
       "   Day_Type_Festival  Day_Type_National Holiday  Day_Type_Strike  \\\n",
       "0                  0                          0                0   \n",
       "1                  0                          0                0   \n",
       "2                  0                          0                0   \n",
       "3                  0                          0                0   \n",
       "4                  0                          0                0   \n",
       "\n",
       "   Day_Type_Working  \n",
       "0                 1  \n",
       "1                 1  \n",
       "2                 1  \n",
       "3                 1  \n",
       "4                 1  \n",
       "\n",
       "[5 rows x 34 columns]"
      ]
     },
     "execution_count": 106,
     "metadata": {},
     "output_type": "execute_result"
    }
   ],
   "source": [
    "train_df_without_outliers = train_df_without_outliers[one_hot_cols]\n",
    "train_df_without_outliers.head()"
   ]
  },
  {
   "cell_type": "code",
   "execution_count": 107,
   "id": "c76ca0b4",
   "metadata": {},
   "outputs": [
    {
     "name": "stdout",
     "output_type": "stream",
     "text": [
      "['Number_of_Shops_Around_ATM', 'No_of_Other_ATMs_in_1_KM_radius', 'Estimated_Number_of_Houses_in_1_KM_Radius', 'Average_Wait_Time', 'ATM_Zone_RL', 'ATM_Zone_RM', 'ATM_TYPE_Town', 'ATM_TYPE_Urban', 'ATM_Attached_to_Building', 'ATM_Attached_to_Petrol Bunk', 'ATM_Attached_to_Shed', 'ATM_Attached_to_Shop', 'Day_Type_Festival', 'Day_Type_National Holiday', 'Day_Type_Strike', 'Day_Type_Working']\n",
      "['Number_of_Shops_Around_ATM', 'No_of_Other_ATMs_in_1_KM_radius', 'Estimated_Number_of_Houses_in_1_KM_Radius', 'Average_Wait_Time', 'ATM_Zone_RL', 'ATM_Zone_RM', 'ATM_TYPE_Town', 'ATM_TYPE_Urban', 'ATM_Attached_to_Building', 'ATM_Attached_to_Petrol Bunk', 'Day_Type_Strike', 'Day_Type_Working']\n"
     ]
    },
    {
     "name": "stderr",
     "output_type": "stream",
     "text": [
      "D:\\anaconda\\lib\\site-packages\\sklearn\\feature_selection\\_univariate_selection.py:289: RuntimeWarning: divide by zero encountered in true_divide\n",
      "  correlation_coefficient /= X_norms\n",
      "D:\\anaconda\\lib\\site-packages\\sklearn\\feature_selection\\_univariate_selection.py:289: RuntimeWarning: invalid value encountered in true_divide\n",
      "  correlation_coefficient /= X_norms\n",
      "D:\\anaconda\\lib\\site-packages\\sklearn\\feature_selection\\_univariate_selection.py:358: RuntimeWarning: invalid value encountered in true_divide\n",
      "  f_statistic = corr_coef_squared / (1 - corr_coef_squared) * deg_of_freedom\n",
      "D:\\anaconda\\lib\\site-packages\\sklearn\\feature_selection\\_univariate_selection.py:112: UserWarning: Features [ 4  5  6  9 10 11 12 15 16 17 18 19 20 21 23 24 26 27 28 29 30 31] are constant.\n",
      "  warnings.warn(\"Features %s are constant.\" % constant_features_idx, UserWarning)\n",
      "D:\\anaconda\\lib\\site-packages\\sklearn\\feature_selection\\_univariate_selection.py:113: RuntimeWarning: invalid value encountered in true_divide\n",
      "  f = msb / msw\n"
     ]
    }
   ],
   "source": [
    "Y_reg = train_df_without_outliers['revenue']\n",
    "Y_cla = train_df_without_outliers['rating']\n",
    "X = train_df_without_outliers.drop(['revenue', 'rating'], axis=1)\n",
    "selector1 = SelectKBest(f_regression, k=16)\n",
    "selector1.fit(X, Y_reg)\n",
    "\n",
    "top_features1 = X.columns[selector1.get_support()].tolist()\n",
    "X_reg = X[top_features1]\n",
    "selector2 = SelectKBest(f_classif, k=12)\n",
    "selector2.fit(X, Y_cla)\n",
    "top_features2 = X.columns[selector2.get_support()].tolist()\n",
    "X_cla = X[top_features2]\n",
    "print(top_features1)\n",
    "print(top_features2)\n",
    "# X_cla = X\n",
    "# X_reg = X"
   ]
  },
  {
   "cell_type": "code",
   "execution_count": 142,
   "id": "8203edcd",
   "metadata": {},
   "outputs": [],
   "source": [
    "scaler1 = StandardScaler().fit(X_reg)\n",
    "scaled_X_reg = scaler1.transform(X_reg)\n",
    "# scaler2 = StandardScaler().fit(X_cla)\n",
    "# scaled_X_cla = scaler2.transform(X_cla)\n",
    "Y_reg = np.log(Y_reg)\n",
    "# Y_cla = np.log(Y_cla)\n",
    "# Y_reg = Y_reg - Y_reg.mean()\n",
    "# Y_cla = Y_cla - Y_cla.mean()\n",
    "X_train_reg, X_test_reg, Y_train_reg, Y_test_reg = train_test_split(scaled_X_reg, Y_reg, test_size=0.2)\n",
    "X_train_cla, X_test_cla, Y_train_cla, Y_test_cla = train_test_split(X_cla, Y_cla, test_size=0.2)"
   ]
  },
  {
   "cell_type": "code",
   "execution_count": 143,
   "id": "1c1d4d01",
   "metadata": {},
   "outputs": [
    {
     "data": {
      "text/plain": [
       "0.9915931738489603"
      ]
     },
     "execution_count": 143,
     "metadata": {},
     "output_type": "execute_result"
    }
   ],
   "source": [
    "# model = AdaBoostRegressor(LinearRegression(),n_estimators = 1000)\n",
    "model = GradientBoostingRegressor(n_estimators = 1000,max_depth=7)\n",
    "# model = SGDRegressor(loss='squared_error')\n",
    "model.fit(X_train_reg, Y_train_reg)\n",
    "pre = model.predict(X_test_reg)\n",
    "pearsonr(Y_test_reg,pre)[0]"
   ]
  },
  {
   "cell_type": "code",
   "execution_count": 145,
   "id": "f36c3f8a",
   "metadata": {},
   "outputs": [
    {
     "data": {
      "text/plain": [
       "{'3': {'precision': 0.9802847754654983,\n",
       "  'recall': 0.9791148682247638,\n",
       "  'f1-score': 0.9796994725843368,\n",
       "  'support': 10055},\n",
       " '4': {'precision': 0.9760492965934193,\n",
       "  'recall': 0.9771854266092422,\n",
       "  'f1-score': 0.9766170311772918,\n",
       "  'support': 8591},\n",
       " '5': {'precision': 0.9961464354527938,\n",
       "  'recall': 0.9980694980694981,\n",
       "  'f1-score': 0.9971070395371262,\n",
       "  'support': 1036},\n",
       " 'accuracy': 0.9792703993496595,\n",
       " 'macro avg': {'precision': 0.9841601691705705,\n",
       "  'recall': 0.9847899309678346,\n",
       "  'f1-score': 0.9844745144329182,\n",
       "  'support': 19682},\n",
       " 'weighted avg': {'precision': 0.9792709395116728,\n",
       "  'recall': 0.9792703993496595,\n",
       "  'f1-score': 0.9792702979697229,\n",
       "  'support': 19682}}"
      ]
     },
     "execution_count": 145,
     "metadata": {},
     "output_type": "execute_result"
    }
   ],
   "source": [
    "clf = tree.DecisionTreeClassifier(criterion='entropy')\n",
    "model2 = clf.fit(X_train_cla,Y_train_cla)\n",
    "Y_pred = model2.predict( X_test_cla)\n",
    "classification_report(Y_test_cla,Y_pred, output_dict = True)"
   ]
  },
  {
   "cell_type": "code",
   "execution_count": 89,
   "id": "60c68a32",
   "metadata": {},
   "outputs": [
    {
     "data": {
      "text/plain": [
       "Text(0.5, 0, 'n_estimators')"
      ]
     },
     "execution_count": 89,
     "metadata": {},
     "output_type": "execute_result"
    },
    {
     "data": {
      "image/png": "[encoded data removed]",
      "text/plain": [
       "<Figure size 432x288 with 1 Axes>"
      ]
     },
     "metadata": {
      "needs_background": "light"
     },
     "output_type": "display_data"
    }
   ],
   "source": [
    "a = np.arange(100, 1100, step=100)\n",
    "b = []\n",
    "\n",
    "for i in a:\n",
    "    model = GradientBoostingRegressor(n_estimators =i)\n",
    "    model.fit(X_train_reg, Y_train_reg)\n",
    "    pre = model.predict(X_test_reg)\n",
    "    b.append(pearsonr(Y_test_reg,pre)[0])\n",
    "\n",
    "plt.plot(a,b)\n",
    "plt.ylabel('pearsonr')\n",
    "plt.xlabel('n_estimators')   "
   ]
  },
  {
   "cell_type": "code",
   "execution_count": 90,
   "id": "bf9c02fb",
   "metadata": {},
   "outputs": [
    {
     "data": {
      "text/plain": [
       "Text(0.5, 0, 'max_depth')"
      ]
     },
     "execution_count": 90,
     "metadata": {},
     "output_type": "execute_result"
    },
    {
     "data": {
      "image/png": "[encoded data removed]",
      "text/plain": [
       "<Figure size 432x288 with 1 Axes>"
      ]
     },
     "metadata": {
      "needs_background": "light"
     },
     "output_type": "display_data"
    }
   ],
   "source": [
    "c = np.arange(3, 10)\n",
    "d = []\n",
    "for i in c:\n",
    "    model = GradientBoostingRegressor(max_depth=i)\n",
    "    model.fit(X_train_reg, Y_train_reg)\n",
    "    pre = model.predict(X_test_reg)\n",
    "    d.append(pearsonr(Y_test_reg,pre)[0])\n",
    "plt.plot(c,d)\n",
    "plt.ylabel('pearsonr')\n",
    "plt.xlabel('max_depth')"
   ]
  },
  {
   "cell_type": "code",
   "execution_count": 118,
   "id": "d35cbb70",
   "metadata": {},
   "outputs": [
    {
     "name": "stderr",
     "output_type": "stream",
     "text": [
      "D:\\anaconda\\lib\\site-packages\\sklearn\\metrics\\_classification.py:1318: UndefinedMetricWarning: Precision and F-score are ill-defined and being set to 0.0 in labels with no predicted samples. Use `zero_division` parameter to control this behavior.\n",
      "  _warn_prf(average, modifier, msg_start, len(result))\n",
      "D:\\anaconda\\lib\\site-packages\\sklearn\\metrics\\_classification.py:1318: UndefinedMetricWarning: Precision and F-score are ill-defined and being set to 0.0 in labels with no predicted samples. Use `zero_division` parameter to control this behavior.\n",
      "  _warn_prf(average, modifier, msg_start, len(result))\n",
      "D:\\anaconda\\lib\\site-packages\\sklearn\\metrics\\_classification.py:1318: UndefinedMetricWarning: Precision and F-score are ill-defined and being set to 0.0 in labels with no predicted samples. Use `zero_division` parameter to control this behavior.\n",
      "  _warn_prf(average, modifier, msg_start, len(result))\n",
      "D:\\anaconda\\lib\\site-packages\\sklearn\\metrics\\_classification.py:1318: UndefinedMetricWarning: Precision and F-score are ill-defined and being set to 0.0 in labels with no predicted samples. Use `zero_division` parameter to control this behavior.\n",
      "  _warn_prf(average, modifier, msg_start, len(result))\n",
      "D:\\anaconda\\lib\\site-packages\\sklearn\\metrics\\_classification.py:1318: UndefinedMetricWarning: Precision and F-score are ill-defined and being set to 0.0 in labels with no predicted samples. Use `zero_division` parameter to control this behavior.\n",
      "  _warn_prf(average, modifier, msg_start, len(result))\n",
      "D:\\anaconda\\lib\\site-packages\\sklearn\\metrics\\_classification.py:1318: UndefinedMetricWarning: Precision and F-score are ill-defined and being set to 0.0 in labels with no predicted samples. Use `zero_division` parameter to control this behavior.\n",
      "  _warn_prf(average, modifier, msg_start, len(result))\n",
      "D:\\anaconda\\lib\\site-packages\\sklearn\\metrics\\_classification.py:1318: UndefinedMetricWarning: Precision and F-score are ill-defined and being set to 0.0 in labels with no predicted samples. Use `zero_division` parameter to control this behavior.\n",
      "  _warn_prf(average, modifier, msg_start, len(result))\n",
      "D:\\anaconda\\lib\\site-packages\\sklearn\\metrics\\_classification.py:1318: UndefinedMetricWarning: Precision and F-score are ill-defined and being set to 0.0 in labels with no predicted samples. Use `zero_division` parameter to control this behavior.\n",
      "  _warn_prf(average, modifier, msg_start, len(result))\n",
      "D:\\anaconda\\lib\\site-packages\\sklearn\\metrics\\_classification.py:1318: UndefinedMetricWarning: Precision and F-score are ill-defined and being set to 0.0 in labels with no predicted samples. Use `zero_division` parameter to control this behavior.\n",
      "  _warn_prf(average, modifier, msg_start, len(result))\n"
     ]
    },
    {
     "data": {
      "text/plain": [
       "Text(0.5, 0, 'max_depth')"
      ]
     },
     "execution_count": 118,
     "metadata": {},
     "output_type": "execute_result"
    },
    {
     "data": {
      "image/png": "[encoded data removed]",
      "text/plain": [
       "<Figure size 432x288 with 1 Axes>"
      ]
     },
     "metadata": {
      "needs_background": "light"
     },
     "output_type": "display_data"
    }
   ],
   "source": [
    "a = np.arange(1, 30)\n",
    "b = []\n",
    "c = []\n",
    "d = []\n",
    "\n",
    "for i in a:\n",
    "    clf = tree.DecisionTreeClassifier(criterion='entropy',max_depth=i)\n",
    "    model2 = clf.fit(X_train_cla,Y_train_cla)\n",
    "    Y_pred = model2.predict(X_test_cla)\n",
    "    report = classification_report(Y_test_cla,Y_pred, output_dict = True)\n",
    "    b.append(report['accuracy'])\n",
    "    c.append(report['macro avg']['recall'])\n",
    "    d.append(report['macro avg']['f1-score'])\n",
    "\n",
    "plt.plot(a, b, label='accuracy')\n",
    "plt.plot(a, c, label='recall')\n",
    "plt.plot(a, d, label='f1-score')\n",
    "plt.legend()\n",
    "plt.xlabel('max_depth')"
   ]
  },
  {
   "cell_type": "code",
   "execution_count": 124,
   "id": "cd0ee4c4",
   "metadata": {},
   "outputs": [
    {
     "data": {
      "text/plain": [
       "<matplotlib.legend.Legend at 0x2b13ef2deb0>"
      ]
     },
     "execution_count": 124,
     "metadata": {},
     "output_type": "execute_result"
    },
    {
     "data": {
      "image/png": "[encoded data removed]",
      "text/plain": [
       "<Figure size 432x288 with 1 Axes>"
      ]
     },
     "metadata": {
      "needs_background": "light"
     },
     "output_type": "display_data"
    }
   ],
   "source": [
    "a = ['gini','entropy']\n",
    "y1 = []\n",
    "y2 = []\n",
    "y3 = []\n",
    "\n",
    "for i in a:\n",
    "    clf = tree.DecisionTreeClassifier(criterion=i,max_depth=15)\n",
    "    model2 = clf.fit(X_train_cla,Y_train_cla)\n",
    "    Y_pred = model2.predict(X_test_cla)\n",
    "    report = classification_report(Y_test_cla,Y_pred, output_dict = True)\n",
    "    y1.append(report['accuracy'])\n",
    "    y2.append(report['macro avg']['recall'])\n",
    "    y3.append(report['macro avg']['f1-score'])\n",
    "bar_width = 0.25\n",
    "bar_positions1 = np.arange(len(a))\n",
    "bar_positions2 = bar_positions1 + bar_width\n",
    "bar_positions3 = bar_positions2 + bar_width\n",
    "plt.bar(bar_positions1, y1, width=bar_width, label='accuracy')\n",
    "plt.bar(bar_positions2, y2, width=bar_width, label='recall')\n",
    "plt.bar(bar_positions3, y3, width=bar_width, label='f1-score')\n",
    "plt.xticks(bar_positions2, a)\n",
    "plt.legend(loc='lower right')"
   ]
  },
  {
   "cell_type": "code",
   "execution_count": 144,
   "id": "c0dd4962",
   "metadata": {},
   "outputs": [
    {
     "data": {
      "text/plain": [
       "0.7920010652864968"
      ]
     },
     "execution_count": 144,
     "metadata": {},
     "output_type": "execute_result"
    }
   ],
   "source": [
    "test_df = pd.get_dummies(test_data, columns=['ATM_Zone', 'ATM_Placement','ATM_TYPE','ATM_Location_TYPE','ATM_looks','ATM_Attached_to','Day_Type'])\n",
    "test_Y_reg = test_df['revenue']\n",
    "test_Y_cla = test_df['rating']\n",
    "test_X = test_df.drop(['revenue', 'rating'], axis=1)\n",
    "test_X_reg = test_X[top_features1]\n",
    "test_X_cla = test_X[top_features2]\n",
    "scaler_test_X_reg = scaler1.transform(test_X_reg)\n",
    "pre = model.predict(scaler_test_X_reg)\n",
    "test_Y_reg = np.log(test_Y_reg)\n",
    "pearsonr(test_Y_reg,pre)[0]"
   ]
  },
  {
   "cell_type": "code",
   "execution_count": 146,
   "id": "fa124307",
   "metadata": {},
   "outputs": [
    {
     "name": "stdout",
     "output_type": "stream",
     "text": [
      "0.8039492242595204\n",
      "0.5666141335276467\n",
      "0.5689991650775964\n"
     ]
    },
    {
     "name": "stderr",
     "output_type": "stream",
     "text": [
      "D:\\anaconda\\lib\\site-packages\\sklearn\\metrics\\_classification.py:1318: UndefinedMetricWarning: Precision and F-score are ill-defined and being set to 0.0 in labels with no predicted samples. Use `zero_division` parameter to control this behavior.\n",
      "  _warn_prf(average, modifier, msg_start, len(result))\n",
      "D:\\anaconda\\lib\\site-packages\\sklearn\\metrics\\_classification.py:1318: UndefinedMetricWarning: Precision and F-score are ill-defined and being set to 0.0 in labels with no predicted samples. Use `zero_division` parameter to control this behavior.\n",
      "  _warn_prf(average, modifier, msg_start, len(result))\n",
      "D:\\anaconda\\lib\\site-packages\\sklearn\\metrics\\_classification.py:1318: UndefinedMetricWarning: Precision and F-score are ill-defined and being set to 0.0 in labels with no predicted samples. Use `zero_division` parameter to control this behavior.\n",
      "  _warn_prf(average, modifier, msg_start, len(result))\n"
     ]
    }
   ],
   "source": [
    "Y_pred = model2.predict(test_X_cla)\n",
    "report = classification_report(test_Y_cla,Y_pred, output_dict = True)\n",
    "print(report['accuracy'])\n",
    "print(report['macro avg']['recall'])\n",
    "print(report['macro avg']['f1-score'])"
   ]
  },
  {
   "cell_type": "code",
   "execution_count": null,
   "id": "d2e43e88",
   "metadata": {},
   "outputs": [],
   "source": []
  }
 ],
 "metadata": {
  "kernelspec": {
   "display_name": "Python 3 (ipykernel)",
   "language": "python",
   "name": "python3"
  },
  "language_info": {
   "codemirror_mode": {
    "name": "ipython",
    "version": 3
   },
   "file_extension": ".py",
   "mimetype": "text/x-python",
   "name": "python",
   "nbconvert_exporter": "python",
   "pygments_lexer": "ipython3",
   "version": "3.9.12"
  }
 },
 "nbformat": 4,
 "nbformat_minor": 5
}
