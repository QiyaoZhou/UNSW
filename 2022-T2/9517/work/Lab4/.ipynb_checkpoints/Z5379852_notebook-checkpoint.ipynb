{
 "cells": [
  {
   "cell_type": "markdown",
   "id": "84417cc3",
   "metadata": {},
   "source": [
    "## Image Segmentation"
   ]
  },
  {
   "cell_type": "markdown",
   "id": "8afbdecb",
   "metadata": {},
   "source": [
    "### Imports"
   ]
  },
  {
   "cell_type": "code",
   "execution_count": 1,
   "id": "9f5a0595",
   "metadata": {},
   "outputs": [],
   "source": [
    "import numpy as np\n",
    "import matplotlib.pyplot as plt\n",
    "import matplotlib.image as mpimg\n",
    "\n",
    "from scipy import ndimage as ndi\n",
    "from skimage.segmentation import watershed\n",
    "from skimage.feature import peak_local_max\n",
    "from sklearn.cluster import MeanShift\n",
    "# Required to calculate Dice Similarity Coefficient\n",
    "\n",
    "from PIL import Image\n",
    "\n",
    "# Reduce size of original image to reduce computation time\n",
    "size = (200,200)# change here"
   ]
  },
  {
   "cell_type": "markdown",
   "id": "74c4e12e",
   "metadata": {},
   "source": [
    "#### Function for displaying images"
   ]
  },
  {
   "cell_type": "code",
   "execution_count": 2,
   "id": "9d516e4f",
   "metadata": {},
   "outputs": [],
   "source": [
    "def plot_two_images(figure_title, image1, label1, image2, label2, \n",
    "                    cmap1=None, cmap2=None):\n",
    "    \n",
    "    fig = plt.figure()\n",
    "    fig.suptitle(figure_title)\n",
    "\n",
    "    # Display the first image\n",
    "    fig.add_subplot(1, 2, 1)\n",
    "    plt.imshow(image1, cmap = cmap1)\n",
    "    plt.axis('off')\n",
    "    plt.title(label1)\n",
    "\n",
    "    # Display the second image\n",
    "    fig.add_subplot(1, 2, 2)\n",
    "    plt.imshow(image2, cmap = cmap2)\n",
    "    plt.axis('off')\n",
    "    plt.title(label2)\n",
    "\n",
    "    plt.show()"
   ]
  },
  {
   "cell_type": "markdown",
   "id": "47a76e88",
   "metadata": {},
   "source": [
    "#### Function for applying MeanShift algorithm"
   ]
  },
  {
   "cell_type": "code",
   "execution_count": 3,
   "id": "d653fc90",
   "metadata": {},
   "outputs": [],
   "source": [
    "def apply_meanshift(img):\n",
    "    \n",
    "    # TODO: Apply MeanShift to image\n",
    "    # Consider the following hints as per the lab specification\n",
    "\n",
    "    # Step 1 - Extract the three RGB colour channels\n",
    "    arr = np.array(img)\n",
    "    rgb_r = arr[:,:,2]\n",
    "    rgb_g = arr[:,:,1]\n",
    "    rgb_b = arr[:,:,0]\n",
    "    # Step 2 - Store original image shape to be used later in resizing\n",
    "    # Combine the three colour channels by flattening each channel\n",
    "    # Then stack the flattened channels together\n",
    "    # This gives the \"colour_samples\"\n",
    "    colour_samples = []\n",
    "    colour_samples.append(rgb_b.reshape(1,rgb_b.size)[0].tolist())\n",
    "    colour_samples.append(rgb_g.reshape(1,rgb_g.size)[0].tolist())\n",
    "    colour_samples.append(rgb_r.reshape(1,rgb_r.size)[0].tolist()) \n",
    "    colour_samples = np.array(colour_samples).T\n",
    "    # Step 3 - Perform MeanShift clustering\n",
    "    # For larger images this may take a few minutes to compute\n",
    "    ms_clf = MeanShift(bin_seeding=True)\n",
    "    ms_labels = ms_clf.fit_predict(colour_samples)\n",
    "    # Step 4 - Reshape ms_labels back to the original image shape\n",
    "    # for displaying the segmentation output\n",
    "    ms_labels = ms_labels.reshape(rgb_r.shape).T\n",
    "\n",
    "    return ms_labels"
   ]
  },
  {
   "cell_type": "markdown",
   "id": "640dbfe2",
   "metadata": {},
   "source": [
    "#### Function for applying Watershed algorithm"
   ]
  },
  {
   "cell_type": "code",
   "execution_count": 4,
   "id": "9e067eaa",
   "metadata": {},
   "outputs": [],
   "source": [
    "def apply_watershed(img, threshold=None, plotDistTransform = False):\n",
    "    \n",
    "    # TODO: Apply Watershed to image\n",
    "    # Consider the following hints as per the lab specification\n",
    "    \n",
    "    # Step 1 - Convert the image to grayscale and then binary\n",
    "    # and convert the image to a numpy matrix\n",
    "    img_grey = img.convert('L')\n",
    "    if threshold is not None:\n",
    "        img_grey = img_grey.point(lambda x: 0 if x < threshold else 255, '1')\n",
    "    img_array = np.array(img_grey).T\n",
    "    \n",
    "    # Step 2 - Calculate the distance transform\n",
    "    # Hint: Use ndi.distance_transform_edt(img_array)\n",
    "    distance = ndi.distance_transform_edt(img_array)\n",
    "    \n",
    "    # Remember to plot distance transform for Task 2\n",
    "    \n",
    "    # Step 3 - Generate the Watershed markers\n",
    "    # Hint: Use the peak_local_max() function from the skimage.feature library\n",
    "    # to get the local maximum values and then convert them to markers\n",
    "    # Remember to change the local search region for good segmentation results\n",
    "    # using ndi.label() (note the markers are the 0th output of this function)\n",
    "    local_max = peak_local_max(distance, footprint=np.ones((5,5)), labels=img_array)\n",
    "    mask = np.zeros(distance.shape, dtype=bool)\n",
    "    mask[tuple(local_max.T)] = True\n",
    "    markers = ndi.label(mask)[0]\n",
    "    \n",
    "    # Step 4 - Perform Watershed and store the labels\n",
    "    # Hint: Use the watershed() function from the skimage.morphology library\n",
    "    # with three inputs: -distance, markers and your image array as a mask\n",
    "    ws_labels = watershed(-distance, markers, mask=img_array)\n",
    "    \n",
    "    return ws_labels, distance"
   ]
  },
  {
   "cell_type": "markdown",
   "id": "734afc11",
   "metadata": {},
   "source": [
    "### Q1. Use the MeanShift algorithm for image segmentation"
   ]
  },
  {
   "cell_type": "code",
   "execution_count": 5,
   "id": "4c2b5fa4",
   "metadata": {},
   "outputs": [
    {
     "ename": "FileNotFoundError",
     "evalue": "[Errno 2] No such file or directory: 'Eggs.png'",
     "output_type": "error",
     "traceback": [
      "\u001b[1;31m---------------------------------------------------------------------------\u001b[0m",
      "\u001b[1;31mFileNotFoundError\u001b[0m                         Traceback (most recent call last)",
      "Input \u001b[1;32mIn [5]\u001b[0m, in \u001b[0;36m<cell line: 5>\u001b[1;34m()\u001b[0m\n\u001b[0;32m      2\u001b[0m img_path \u001b[38;5;241m=\u001b[39m \u001b[38;5;124m'\u001b[39m\u001b[38;5;124mEggs.png\u001b[39m\u001b[38;5;124m'\u001b[39m\n\u001b[0;32m      4\u001b[0m \u001b[38;5;66;03m# Read image\u001b[39;00m\n\u001b[1;32m----> 5\u001b[0m img \u001b[38;5;241m=\u001b[39m \u001b[43mImage\u001b[49m\u001b[38;5;241;43m.\u001b[39;49m\u001b[43mopen\u001b[49m\u001b[43m(\u001b[49m\u001b[43mimg_path\u001b[49m\u001b[43m)\u001b[49m\n\u001b[0;32m      6\u001b[0m img\u001b[38;5;241m.\u001b[39mthumbnail(size)\n\u001b[0;32m      8\u001b[0m \u001b[38;5;66;03m# Apply MeanShift algorithm to the image\u001b[39;00m\n",
      "File \u001b[1;32mD:\\anaconda\\lib\\site-packages\\PIL\\Image.py:2953\u001b[0m, in \u001b[0;36mopen\u001b[1;34m(fp, mode, formats)\u001b[0m\n\u001b[0;32m   2950\u001b[0m     filename \u001b[38;5;241m=\u001b[39m fp\n\u001b[0;32m   2952\u001b[0m \u001b[38;5;28;01mif\u001b[39;00m filename:\n\u001b[1;32m-> 2953\u001b[0m     fp \u001b[38;5;241m=\u001b[39m \u001b[43mbuiltins\u001b[49m\u001b[38;5;241;43m.\u001b[39;49m\u001b[43mopen\u001b[49m\u001b[43m(\u001b[49m\u001b[43mfilename\u001b[49m\u001b[43m,\u001b[49m\u001b[43m \u001b[49m\u001b[38;5;124;43m\"\u001b[39;49m\u001b[38;5;124;43mrb\u001b[39;49m\u001b[38;5;124;43m\"\u001b[39;49m\u001b[43m)\u001b[49m\n\u001b[0;32m   2954\u001b[0m     exclusive_fp \u001b[38;5;241m=\u001b[39m \u001b[38;5;28;01mTrue\u001b[39;00m\n\u001b[0;32m   2956\u001b[0m \u001b[38;5;28;01mtry\u001b[39;00m:\n",
      "\u001b[1;31mFileNotFoundError\u001b[0m: [Errno 2] No such file or directory: 'Eggs.png'"
     ]
    }
   ],
   "source": [
    "# Specify path to the test image\n",
    "img_path = 'Eggs.png'\n",
    "\n",
    "# Read image\n",
    "img = Image.open(img_path)\n",
    "img.thumbnail(size)\n",
    "\n",
    "# Apply MeanShift algorithm to the image\n",
    "ms_labels = apply_meanshift(img)# change here\n",
    "\n",
    "# Read and plot the original image and MeanShift result\n",
    "#img = # change here\n",
    "ms_labels = ms_labels.tolist()\n",
    "img_new = Image.new(\"L\",img.size)\n",
    "for i in range(img.size[0]):\n",
    "    for j in range(img.size[1]):\n",
    "        img_new.putpixel((i,j),ms_labels[i][j]*40)\n",
    "\n",
    "plot_two_images(img_path, img, \"Image\", img_new, \"MeanShift Labels\")\n",
    "ms_labels = np.array(ms_labels)"
   ]
  },
  {
   "cell_type": "markdown",
   "id": "c6665d53",
   "metadata": {},
   "source": [
    "### Q2. Use Watershed transformation for image segmentation"
   ]
  },
  {
   "cell_type": "code",
   "execution_count": null,
   "id": "146796e6",
   "metadata": {},
   "outputs": [],
   "source": [
    "# Read image from img_path as specified above\n",
    "img = Image.open(img_path)\n",
    "img.thumbnail(size)\n",
    "# Apply Watershed algorithm (remember to plot distance transform as well)\n",
    "ws_labels, distance = apply_watershed(img,threshold=75)# Change here\n",
    "distance_display = Image.fromarray(distance.T.astype(np.uint8))\n",
    "for i in range(distance_display.size[0]):\n",
    "    for j in range(distance_display.size[1]):\n",
    "        distance_display.putpixel((i,j),int(distance[i,j]*40))\n",
    "distance_display.show()\n",
    "distance_display.save('distance.png')\n",
    "\n",
    "# Read the original image\n",
    "# change here\n",
    "plot_two_images(img_path, img, \"Image\", ws_labels.T, \"Watershed Labels\")\n"
   ]
  },
  {
   "cell_type": "markdown",
   "id": "fb1ef692",
   "metadata": {},
   "source": [
    "### Q3. Compare MeanShift and Watershed segmentation results"
   ]
  },
  {
   "cell_type": "code",
   "execution_count": null,
   "id": "c50e3683",
   "metadata": {},
   "outputs": [],
   "source": [
    "# List of MaskX.png images\n",
    "MaskX = ['Mask{}.png'.format(str(idx)) for idx in range(1,7)]\n",
    "\n",
    "# Generate list of unique MeanShift labels and corresponding label image masks\n",
    "lbl_ms_unique = np.unique(ms_labels)\n",
    "ms_masks = ms_labels.copy()\n",
    "for i in range(ms_labels.shape[0]):\n",
    "    for j in range(ms_labels.shape[1]):\n",
    "        if ms_labels[i,j] != 0:\n",
    "            ms_masks[i,j] = 1\n",
    "        else:\n",
    "            ms_masks[i,j] = 0\n",
    "\n",
    "\n",
    "# Generate list of unique Watershed labels and corresponding label image masks\n",
    "# Hint: Make sure you have generated reasonable watershed segmentation results\n",
    "lbl_ws_unique = np.unique(ws_labels)\n",
    "ws_masks = ws_labels.copy()\n",
    "for i in range(ws_labels.shape[0]):\n",
    "    for j in range(ws_labels.shape[1]):\n",
    "        if ws_labels[i,j] != 0:\n",
    "            ws_masks[i,j] = 1\n",
    "        else:\n",
    "            ws_masks[i,j] = 0\n",
    "\n",
    "img = Image.open(img_path)\n",
    "img.thumbnail(size)\n",
    "img = img.convert('L')\n",
    "img_binary = img.point(lambda x: 0 if x ==0 else 1)\n",
    "img_binary2 =  np.array(img_binary).T\n",
    "# Iterate over MaskX.png images and calculate DSC\n",
    "d_ms = []\n",
    "d_ws = []\n",
    "for each_maskx_image in MaskX:\n",
    "    # Read each MaskX.png image\n",
    "    im1 = Image.open(each_maskx_image)\n",
    "    im1.thumbnail(size)\n",
    "    im1_binary = im1.point(lambda x: 0 if x ==0 else 1)\n",
    "    im1_binary2 = np.array(im1_binary).T\n",
    "    s_ms = []\n",
    "    s_ws = []\n",
    "    res_ms = []\n",
    "    res_ws = []\n",
    "    origin = []\n",
    "    for r in range(im1_binary2.shape[0]):\n",
    "        for c in range(im1_binary2.shape[1]):\n",
    "            if im1_binary2[r,c] == 1:\n",
    "                if ms_masks[r,c] == 1 and img_binary2[r,c] == 1:\n",
    "                    s_ms.append(1)\n",
    "                if ms_masks[r,c]  == 1:\n",
    "                    res_ms.append(1)\n",
    "                if ws_masks[r,c] == 1 and  img_binary2[r,c] == 1:\n",
    "                    s_ws.append(1)\n",
    "                if ws_masks[r,c]  == 1:\n",
    "                    res_ws.append(1)\n",
    "                if img_binary2[r,c] == 1:\n",
    "                    origin.append(1)\n",
    "    m1_ms = len(s_ms)\n",
    "    m2_ms = len(res_ms) + len(origin)\n",
    "    d_ms.append(2*m1_ms/m2_ms)\n",
    "    m1_ws = len(s_ws)\n",
    "    m2_ws = len(res_ws) + len(origin)\n",
    "    d_ws.append(2*m1_ws/m2_ws)\n",
    "print('Meanshift:')\n",
    "print(d_ms)\n",
    "print(np.mean(np.array(d_ms)))\n",
    "print('Watershed:')\n",
    "print(d_ws)\n",
    "print(np.mean(np.array(d_ws)))"
   ]
  },
  {
   "cell_type": "markdown",
   "id": "a67c8e77",
   "metadata": {},
   "source": [
    "Conclusion: The image segmentation results of the two methods are similar. MeanShift's clustering segmentation method is a clustering method without parameters, and it will have better performance if the image complexity is higher. Watershed algorithm gets more detailed results, but the image has a certain degree of over-segmentation and low tightness."
   ]
  },
  {
   "cell_type": "markdown",
   "id": "1d960f7f",
   "metadata": {},
   "source": [
    "Suggestion: Image preprocessing such as image smoothing operation may improve the segmentation result, threshold selection will also affect the segmentation effect, and normalizing the result after distance transformation can also bring certain help."
   ]
  }
 ],
 "metadata": {
  "kernelspec": {
   "display_name": "Python 3 (ipykernel)",
   "language": "python",
   "name": "python3"
  },
  "language_info": {
   "codemirror_mode": {
    "name": "ipython",
    "version": 3
   },
   "file_extension": ".py",
   "mimetype": "text/x-python",
   "name": "python",
   "nbconvert_exporter": "python",
   "pygments_lexer": "ipython3",
   "version": "3.9.12"
  }
 },
 "nbformat": 4,
 "nbformat_minor": 5
}
