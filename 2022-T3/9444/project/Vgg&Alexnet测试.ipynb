{
 "cells": [
  {
   "cell_type": "code",
   "execution_count": null,
   "metadata": {
    "pycharm": {
     "name": "#%%\n"
    }
   },
   "outputs": [],
   "source": []
  },
  {
   "cell_type": "code",
   "execution_count": 1,
   "metadata": {
    "pycharm": {
     "name": "#%%\n"
    }
   },
   "outputs": [],
   "source": [
    "import torch\n",
    "import torch.nn as nn\n",
    "import torch.optim as optim\n",
    "import torchvision\n",
    "from torchvision import datasets, transforms\n",
    "import matplotlib.pyplot as plt\n",
    "import numpy as np\n",
    "import os\n",
    "%matplotlib inline"
   ]
  },
  {
   "cell_type": "markdown",
   "metadata": {
    "pycharm": {
     "name": "#%% md\n"
    }
   },
   "source": [
    "读取照片"
   ]
  },
  {
   "cell_type": "code",
   "execution_count": 2,
   "metadata": {
    "pycharm": {
     "name": "#%%\n"
    }
   },
   "outputs": [],
   "source": [
    "os.environ[\"KMP_DUPLICATE_LIB_OK\"]=\"TRUE\"\n",
    "# 数据增强\n",
    "data_transforms = {\n",
    "    'Train': transforms.Compose([\n",
    "        # Can add more\n",
    "        transforms.CenterCrop(224), # center crop 224*224 for resnet\n",
    "        transforms.RandomHorizontalFlip(p=0.5), # Random horizontal rollover with a probability of 0.5\n",
    "        transforms.RandomRotation(45), # turn -45°-45°\n",
    "        transforms.ColorJitter(brightness=0.2, contrast=0.1, saturation=0.1, hue=0.1), # 亮度，对比度，饱和度，色相\n",
    "        transforms.RandomGrayscale(p=0.025),\n",
    "        transforms.ToTensor(), # Transfer to tensor\n",
    "        transforms.Normalize([0.485, 0.456, 0.406], [0.229, 0.224, 0.225]) # Treatment of mean and standard deviation\n",
    "    ]),\n",
    "    'Test': transforms.Compose([\n",
    "        transforms.Resize(256),\n",
    "        transforms.CenterCrop(224),\n",
    "        transforms.RandomHorizontalFlip(p=0.5), # Random horizontal rollover with a probability of 0.5\n",
    "        transforms.RandomRotation(45), # 随机旋转-45°到45°\n",
    "        transforms.ColorJitter(brightness=0.2, contrast=0.1, saturation=0.1, hue=0.1), # 亮度，对比度，饱和度，色相\n",
    "        transforms.RandomGrayscale(p=0.025),\n",
    "        transforms.ToTensor(),\n",
    "        transforms.Normalize([0.485, 0.456, 0.406], [0.229, 0.224, 0.225]),\n",
    "    ])\n",
    "}\n",
    "# 训练集\n",
    "# 在这里改数据源文件夹\n",
    "data_dir = \"New Masks Dataset\"\n",
    "img_datasets = {x: datasets.ImageFolder(os.path.join(data_dir, x), data_transforms[x]) for x in ['Train', 'Test']}\n",
    "dataloaders = {x: torch.utils.data.DataLoader(img_datasets[x], batch_size=256,\n",
    "                                              shuffle=True)\n",
    "               for x in ['Train', 'Test']}\n",
    "class_names = img_datasets['Train'].classes"
   ]
  },
  {
   "cell_type": "code",
   "execution_count": 3,
   "metadata": {
    "pycharm": {
     "name": "#%%\n"
    }
   },
   "outputs": [
    {
     "name": "stderr",
     "output_type": "stream",
     "text": [
      "Downloading: \"https://download.pytorch.org/models/vgg11-8a719046.pth\" to C:\\Users\\Lampard/.cache\\torch\\hub\\checkpoints\\vgg11-8a719046.pth\n"
     ]
    },
    {
     "data": {
      "application/vnd.jupyter.widget-view+json": {
       "model_id": "55b4b84fc04e4aacbbfbb3fe82b8646e",
       "version_major": 2,
       "version_minor": 0
      },
      "text/plain": [
       "  0%|          | 0.00/507M [00:00<?, ?B/s]"
      ]
     },
     "metadata": {},
     "output_type": "display_data"
    },
    {
     "data": {
      "text/plain": [
       "VGG(\n",
       "  (features): Sequential(\n",
       "    (0): Conv2d(3, 64, kernel_size=(3, 3), stride=(1, 1), padding=(1, 1))\n",
       "    (1): ReLU(inplace=True)\n",
       "    (2): MaxPool2d(kernel_size=2, stride=2, padding=0, dilation=1, ceil_mode=False)\n",
       "    (3): Conv2d(64, 128, kernel_size=(3, 3), stride=(1, 1), padding=(1, 1))\n",
       "    (4): ReLU(inplace=True)\n",
       "    (5): MaxPool2d(kernel_size=2, stride=2, padding=0, dilation=1, ceil_mode=False)\n",
       "    (6): Conv2d(128, 256, kernel_size=(3, 3), stride=(1, 1), padding=(1, 1))\n",
       "    (7): ReLU(inplace=True)\n",
       "    (8): Conv2d(256, 256, kernel_size=(3, 3), stride=(1, 1), padding=(1, 1))\n",
       "    (9): ReLU(inplace=True)\n",
       "    (10): MaxPool2d(kernel_size=2, stride=2, padding=0, dilation=1, ceil_mode=False)\n",
       "    (11): Conv2d(256, 512, kernel_size=(3, 3), stride=(1, 1), padding=(1, 1))\n",
       "    (12): ReLU(inplace=True)\n",
       "    (13): Conv2d(512, 512, kernel_size=(3, 3), stride=(1, 1), padding=(1, 1))\n",
       "    (14): ReLU(inplace=True)\n",
       "    (15): MaxPool2d(kernel_size=2, stride=2, padding=0, dilation=1, ceil_mode=False)\n",
       "    (16): Conv2d(512, 512, kernel_size=(3, 3), stride=(1, 1), padding=(1, 1))\n",
       "    (17): ReLU(inplace=True)\n",
       "    (18): Conv2d(512, 512, kernel_size=(3, 3), stride=(1, 1), padding=(1, 1))\n",
       "    (19): ReLU(inplace=True)\n",
       "    (20): MaxPool2d(kernel_size=2, stride=2, padding=0, dilation=1, ceil_mode=False)\n",
       "  )\n",
       "  (avgpool): AdaptiveAvgPool2d(output_size=(7, 7))\n",
       "  (classifier): Sequential(\n",
       "    (0): Linear(in_features=25088, out_features=4096, bias=True)\n",
       "    (1): ReLU(inplace=True)\n",
       "    (2): Dropout(p=0.5, inplace=False)\n",
       "    (3): Linear(in_features=4096, out_features=4096, bias=True)\n",
       "    (4): ReLU(inplace=True)\n",
       "    (5): Dropout(p=0.5, inplace=False)\n",
       "    (6): Linear(in_features=4096, out_features=2, bias=True)\n",
       "  )\n",
       ")"
      ]
     },
     "execution_count": 3,
     "metadata": {},
     "output_type": "execute_result"
    }
   ],
   "source": [
    "model_vgg = torchvision.models.vgg11(weights=torchvision.models.VGG11_Weights.DEFAULT)\n",
    "for param in model_vgg.parameters():\n",
    "    param.requires_grad = False\n",
    "model_vgg.classifier._modules['6'] = nn.Linear(4096, 2)\n",
    "model_vgg"
   ]
  },
  {
   "cell_type": "code",
   "execution_count": 4,
   "metadata": {
    "pycharm": {
     "name": "#%%\n"
    }
   },
   "outputs": [
    {
     "name": "stderr",
     "output_type": "stream",
     "text": [
      "Downloading: \"https://download.pytorch.org/models/alexnet-owt-7be5be79.pth\" to C:\\Users\\Lampard/.cache\\torch\\hub\\checkpoints\\alexnet-owt-7be5be79.pth\n"
     ]
    },
    {
     "data": {
      "application/vnd.jupyter.widget-view+json": {
       "model_id": "17b98651b6f24b6fa6a007e6a805ab21",
       "version_major": 2,
       "version_minor": 0
      },
      "text/plain": [
       "  0%|          | 0.00/233M [00:00<?, ?B/s]"
      ]
     },
     "metadata": {},
     "output_type": "display_data"
    },
    {
     "data": {
      "text/plain": [
       "AlexNet(\n",
       "  (features): Sequential(\n",
       "    (0): Conv2d(3, 64, kernel_size=(11, 11), stride=(4, 4), padding=(2, 2))\n",
       "    (1): ReLU(inplace=True)\n",
       "    (2): MaxPool2d(kernel_size=3, stride=2, padding=0, dilation=1, ceil_mode=False)\n",
       "    (3): Conv2d(64, 192, kernel_size=(5, 5), stride=(1, 1), padding=(2, 2))\n",
       "    (4): ReLU(inplace=True)\n",
       "    (5): MaxPool2d(kernel_size=3, stride=2, padding=0, dilation=1, ceil_mode=False)\n",
       "    (6): Conv2d(192, 384, kernel_size=(3, 3), stride=(1, 1), padding=(1, 1))\n",
       "    (7): ReLU(inplace=True)\n",
       "    (8): Conv2d(384, 256, kernel_size=(3, 3), stride=(1, 1), padding=(1, 1))\n",
       "    (9): ReLU(inplace=True)\n",
       "    (10): Conv2d(256, 256, kernel_size=(3, 3), stride=(1, 1), padding=(1, 1))\n",
       "    (11): ReLU(inplace=True)\n",
       "    (12): MaxPool2d(kernel_size=3, stride=2, padding=0, dilation=1, ceil_mode=False)\n",
       "  )\n",
       "  (avgpool): AdaptiveAvgPool2d(output_size=(6, 6))\n",
       "  (classifier): Sequential(\n",
       "    (0): Dropout(p=0.5, inplace=False)\n",
       "    (1): Linear(in_features=9216, out_features=4096, bias=True)\n",
       "    (2): ReLU(inplace=True)\n",
       "    (3): Dropout(p=0.5, inplace=False)\n",
       "    (4): Linear(in_features=4096, out_features=4096, bias=True)\n",
       "    (5): ReLU(inplace=True)\n",
       "    (6): Linear(in_features=4096, out_features=2, bias=True)\n",
       "  )\n",
       ")"
      ]
     },
     "execution_count": 4,
     "metadata": {},
     "output_type": "execute_result"
    }
   ],
   "source": [
    "model_alex = torchvision.models.alexnet(weights=torchvision.models.AlexNet_Weights.DEFAULT)\n",
    "for param in model_alex.parameters():\n",
    "    param.requires_grad = False\n",
    "model_alex.classifier._modules['6'] = nn.Linear(4096, 2)\n",
    "model_alex"
   ]
  },
  {
   "cell_type": "markdown",
   "metadata": {
    "pycharm": {
     "name": "#%% md\n"
    }
   },
   "source": [
    "优化器"
   ]
  },
  {
   "cell_type": "code",
   "execution_count": 5,
   "metadata": {
    "pycharm": {
     "name": "#%%\n"
    }
   },
   "outputs": [],
   "source": [
    "optimizer_ft = optim.Adam(model_vgg.parameters(), lr=0.0001)\n",
    "loss_fn = nn.CrossEntropyLoss()\n",
    "optimizer_f = optim.Adam(model_alex.parameters(), lr=0.0001)"
   ]
  },
  {
   "cell_type": "markdown",
   "metadata": {
    "pycharm": {
     "name": "#%% md\n"
    }
   },
   "source": [
    "训练"
   ]
  },
  {
   "cell_type": "code",
   "execution_count": 6,
   "metadata": {
    "pycharm": {
     "name": "#%%\n"
    }
   },
   "outputs": [],
   "source": [
    "def train_loop(dataloader, model, loss_fn, optimizer):\n",
    "    size = len(dataloader.dataset)\n",
    "    for batch, (X, y) in enumerate(dataloader):\n",
    "        pred = model(X)\n",
    "        _, out_pred = torch.max(model(X), 1)\n",
    "\n",
    "        loss = loss_fn(pred, y)\n",
    "\n",
    "        optimizer.zero_grad()\n",
    "        loss.backward()\n",
    "        optimizer.step()\n",
    "        if batch % 2 == 0:\n",
    "            loss, current = loss.item(), batch * len(X)\n",
    "            print(f\"loss: {loss:>7f}  [{current:>5d}/{size:>5d}]\")\n",
    "\n",
    "            # 看一下，以后再删\n",
    "            # print(\"predict\", out_pred)\n",
    "            # print(\"target\", y)\n",
    "\n",
    "def test_loop(dataloader, model, loss_fn, acc_list, loss_list):\n",
    "    size = len(dataloader.dataset)\n",
    "    num_batches = len(dataloader)\n",
    "    test_loss, correct = 0, 0\n",
    "\n",
    "    with torch.no_grad():\n",
    "        for X, y in dataloader:\n",
    "            pred = model(X)\n",
    "            test_loss += loss_fn(pred, y).item()\n",
    "            correct += (pred.argmax(1) == y).type(torch.float).sum().item()\n",
    "\n",
    "    test_loss /= num_batches\n",
    "    correct /= size\n",
    "    acc_list.append(correct*100)\n",
    "    loss_list.append(test_loss)\n",
    "    print(f\"Test Error: \\n Accuracy: {(100*correct):>0.1f}%, Avg loss: {test_loss:>8f} \\n\")"
   ]
  },
  {
   "cell_type": "code",
   "execution_count": 7,
   "metadata": {
    "pycharm": {
     "name": "#%%\n"
    }
   },
   "outputs": [],
   "source": [
    "def draw_acc_result(acc, epoch_time):\n",
    "    y = np.array(acc)\n",
    "    x = np.array(epoch_time)\n",
    "    plt.plot(x, y)\n",
    "\n",
    "    plt.title('Accuracy Epoch Line Chart')\n",
    "    plt.ylabel('y-accuracy')\n",
    "    plt.xlabel('x-epoch')\n",
    "    plt.show()\n",
    "def draw_loss_result(loss, epoch_time):\n",
    "    y = np.array(loss)\n",
    "    x = np.array(epoch_time)\n",
    "    plt.plot(x, y)\n",
    "\n",
    "    plt.title('Loss Epoch Line Chart')\n",
    "    plt.ylabel('y-loss')\n",
    "    plt.xlabel('x-epoch')\n",
    "    plt.show()"
   ]
  },
  {
   "cell_type": "markdown",
   "metadata": {
    "pycharm": {
     "name": "#%% md\n"
    }
   },
   "source": [
    "测试vgg"
   ]
  },
  {
   "cell_type": "code",
   "execution_count": null,
   "metadata": {
    "pycharm": {
     "is_executing": true,
     "name": "#%%\n"
    }
   },
   "outputs": [
    {
     "name": "stdout",
     "output_type": "stream",
     "text": [
      "Start on CPU\n",
      "Epoch 1\n",
      "-------------------------------\n",
      "loss: 0.710480  [    0/ 2000]\n",
      "loss: 0.676840  [  512/ 2000]\n",
      "loss: 0.640044  [ 1024/ 2000]\n",
      "loss: 0.646550  [ 1536/ 2000]\n",
      "Test Error: \n",
      " Accuracy: 69.0%, Avg loss: 0.599772 \n",
      "\n",
      "Epoch 2\n",
      "-------------------------------\n",
      "loss: 0.629037  [    0/ 2000]\n",
      "loss: 0.585401  [  512/ 2000]\n",
      "loss: 0.543369  [ 1024/ 2000]\n",
      "loss: 0.515258  [ 1536/ 2000]\n",
      "Test Error: \n",
      " Accuracy: 85.0%, Avg loss: 0.456675 \n",
      "\n",
      "Epoch 3\n",
      "-------------------------------\n",
      "loss: 0.492027  [    0/ 2000]\n",
      "loss: 0.489538  [  512/ 2000]\n",
      "loss: 0.461497  [ 1024/ 2000]\n",
      "loss: 0.465660  [ 1536/ 2000]\n",
      "Test Error: \n",
      " Accuracy: 89.0%, Avg loss: 0.414919 \n",
      "\n",
      "Epoch 4\n",
      "-------------------------------\n",
      "loss: 0.434130  [    0/ 2000]\n",
      "loss: 0.449782  [  512/ 2000]\n",
      "loss: 0.431494  [ 1024/ 2000]\n",
      "loss: 0.405919  [ 1536/ 2000]\n",
      "Test Error: \n",
      " Accuracy: 89.5%, Avg loss: 0.374764 \n",
      "\n",
      "Epoch 5\n",
      "-------------------------------\n",
      "loss: 0.374359  [    0/ 2000]\n",
      "loss: 0.362174  [  512/ 2000]\n",
      "loss: 0.372435  [ 1024/ 2000]\n",
      "loss: 0.364085  [ 1536/ 2000]\n",
      "Test Error: \n",
      " Accuracy: 90.5%, Avg loss: 0.324413 \n",
      "\n",
      "Epoch 6\n",
      "-------------------------------\n",
      "loss: 0.352582  [    0/ 2000]\n",
      "loss: 0.343511  [  512/ 2000]\n",
      "loss: 0.350047  [ 1024/ 2000]\n",
      "loss: 0.334307  [ 1536/ 2000]\n",
      "Test Error: \n",
      " Accuracy: 92.0%, Avg loss: 0.288489 \n",
      "\n",
      "Epoch 7\n",
      "-------------------------------\n",
      "loss: 0.298021  [    0/ 2000]\n",
      "loss: 0.338407  [  512/ 2000]\n",
      "loss: 0.286924  [ 1024/ 2000]\n",
      "loss: 0.291278  [ 1536/ 2000]\n",
      "Test Error: \n",
      " Accuracy: 94.0%, Avg loss: 0.244780 \n",
      "\n",
      "Epoch 8\n",
      "-------------------------------\n",
      "loss: 0.281003  [    0/ 2000]\n",
      "loss: 0.281976  [  512/ 2000]\n",
      "loss: 0.272045  [ 1024/ 2000]\n"
     ]
    }
   ],
   "source": [
    "epochs = 50\n",
    "acc_list = []\n",
    "loss_list = []\n",
    "if torch.cuda.is_available():\n",
    "    print(\"Start on GPU\")\n",
    "else:\n",
    "    print(\"Start on CPU\")\n",
    "for t in range(epochs):\n",
    "    print(f\"Epoch {t+1}\\n-------------------------------\")\n",
    "    train_loop(dataloaders[\"Train\"], model_vgg, loss_fn, optimizer_ft)\n",
    "    test_loop(dataloaders[\"Test\"], model_vgg, loss_fn, acc_list, loss_list)\n",
    "print(\"Done!\")\n",
    "draw_acc_result(acc_list, [i for i in range(1, len(acc_list)+1)])\n",
    "draw_loss_result(loss_list, [i for i in range(1, len(loss_list)+1)])"
   ]
  },
  {
   "cell_type": "markdown",
   "metadata": {
    "pycharm": {
     "name": "#%% md\n"
    }
   },
   "source": [
    "测试 alexnet"
   ]
  },
  {
   "cell_type": "code",
   "execution_count": null,
   "metadata": {
    "pycharm": {
     "name": "#%%\n"
    }
   },
   "outputs": [],
   "source": [
    "epochs = 50\n",
    "acc_list = []\n",
    "loss_list = []\n",
    "if torch.cuda.is_available():\n",
    "    print(\"Start on GPU\")\n",
    "else:\n",
    "    print(\"Start on CPU\")\n",
    "for t in range(epochs):\n",
    "    print(f\"Epoch {t+1}\\n-------------------------------\")\n",
    "    train_loop(dataloaders[\"Train\"], model_alex, loss_fn, optimizer_ft)\n",
    "    test_loop(dataloaders[\"Test\"], model_alex, loss_fn, acc_list, loss_list)\n",
    "print(\"Done!\")\n",
    "draw_acc_result(acc_list, [i for i in range(1, len(acc_list)+1)])\n",
    "draw_loss_result(loss_list, [i for i in range(1, len(loss_list)+1)])"
   ]
  },
  {
   "cell_type": "code",
   "execution_count": null,
   "metadata": {
    "pycharm": {
     "name": "#%%\n"
    }
   },
   "outputs": [],
   "source": []
  }
 ],
 "metadata": {
  "kernelspec": {
   "display_name": "Python 3 (ipykernel)",
   "language": "python",
   "name": "python3"
  },
  "language_info": {
   "codemirror_mode": {
    "name": "ipython",
    "version": 3
   },
   "file_extension": ".py",
   "mimetype": "text/x-python",
   "name": "python",
   "nbconvert_exporter": "python",
   "pygments_lexer": "ipython3",
   "version": "3.9.12"
  }
 },
 "nbformat": 4,
 "nbformat_minor": 1
}
