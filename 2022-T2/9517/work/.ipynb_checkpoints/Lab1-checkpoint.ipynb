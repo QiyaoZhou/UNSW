{
 "cells": [
  {
   "cell_type": "code",
   "execution_count": 1,
   "id": "ee2052eb",
   "metadata": {},
   "outputs": [],
   "source": [
    "import numpy as np\n",
    "import matplotlib.pyplot as plt\n",
    "import matplotlib.image as mimg\n",
    "import cv2"
   ]
  },
  {
   "cell_type": "markdown",
   "id": "b51e2505",
   "metadata": {},
   "source": [
    "edge detection to Cat.png using the Sobel filters "
   ]
  },
  {
   "cell_type": "code",
   "execution_count": 2,
   "id": "3962a8b8",
   "metadata": {},
   "outputs": [],
   "source": [
    "def sobel(img,filter):\n",
    "    rgb_r = img[:,:,2]\n",
    "    rgb_g = img[:,:,1]\n",
    "    rgb_b = img[:,:,0]\n",
    "    \n",
    "    rgb_r1 = convolve(rgb_r,filter)\n",
    "    rgb_g1 = convolve(rgb_g,filter)\n",
    "    rgb_b1 = convolve(rgb_b,filter)\n",
    "    \n",
    "    img_sobel = np.dstack((rgb_r1,rgb_g1,rgb_b1))\n",
    "    return img_sobel\n",
    "\n",
    "def convolve(img,filter):\n",
    "    img_sobel_height = img.shape[0]\n",
    "    img_sobel_width = img.shape[1]\n",
    "    rgb_sobel = np.zeros((img_sobel_height,img_sobel_width),dtype='uint8')\n",
    "    for i in range(img_sobel_height-2):\n",
    "        for j in range(img_sobel_width-2):\n",
    "            res = (img[i:i + 3,j:j + 3]* filter).sum()\n",
    "            if res >255 or res < -255:\n",
    "                res = 255\n",
    "            elif res < 0 and res >=-255:\n",
    "                res = abs(res)\n",
    "            rgb_sobel[i,j] = res\n",
    "    return rgb_sobel\n",
    "    \n",
    "sobel_x = np.array([[-1,-2,-1],\n",
    "                    [0,0,0],\n",
    "                    [1,2,1]])\n",
    "sobel_y = np.array([[-1,0,1],\n",
    "                    [-2,0,2],\n",
    "                    [-1,0,1]])\n",
    "img1 = cv2.imread('Cat.png')\n",
    "res1 = sobel(img1,sobel_x)\n",
    "res2 = sobel(img1,sobel_y)\n",
    "res = cv2.addWeighted(res1,1,res2,1,0)\n",
    "#cv2.imshow('image1',res)\n",
    "#cv2.waitKey(0)"
   ]
  },
  {
   "cell_type": "markdown",
   "id": "0820dfba",
   "metadata": {},
   "source": [
    "uniform filtering to Dog.png using a 5 × 5 kernel"
   ]
  },
  {
   "cell_type": "code",
   "execution_count": 3,
   "id": "dfe97f39",
   "metadata": {},
   "outputs": [],
   "source": [
    "img2 = cv2.imread('Dog.png')\n",
    "pad_num = 2\n",
    "#5//2 = 2\n",
    "height,width,color = img2.shape\n",
    "out = np.zeros((height + 2*pad_num,width + 2*pad_num,color),dtype=int)\n",
    "out[pad_num:pad_num+height,pad_num:pad_num+width] = img2.copy().astype(int)\n",
    "tmp = out.copy()\n",
    "for x in range(height):\n",
    "    for y in range(width):\n",
    "        for z in range(color):\n",
    "            out[pad_num+x,pad_num+y,z] = np.mean(tmp[x:x+5,y:y+5,z])    \n",
    "out = out[pad_num:pad_num+height,pad_num:pad_num+width].astype(np.uint8)\n",
    "#cv2.imshow('image2',out)\n",
    "#cv2.waitKey(0)"
   ]
  },
  {
   "cell_type": "markdown",
   "id": "f3d8d8e2",
   "metadata": {},
   "source": [
    "Compute a composed image 𝑂𝑂(𝑥𝑥, 𝑦𝑦) = 0.5 ∗ 𝐶𝐶(𝑥𝑥, 𝑦𝑦) + 0.5 ∗ 𝐷𝐷(𝑥𝑥, 𝑦𝑦)."
   ]
  },
  {
   "cell_type": "code",
   "execution_count": 4,
   "id": "4e2fb31f",
   "metadata": {},
   "outputs": [
    {
     "data": {
      "text/plain": [
       "-1"
      ]
     },
     "execution_count": 4,
     "metadata": {},
     "output_type": "execute_result"
    }
   ],
   "source": [
    "output = cv2.addWeighted(res,0.5,out,0.5,0)\n",
    "cv2.imwrite('result.png',output)\n",
    "cv2.imshow('result',output)\n",
    "cv2.waitKey(0)"
   ]
  }
 ],
 "metadata": {
  "kernelspec": {
   "display_name": "Python 3 (ipykernel)",
   "language": "python",
   "name": "python3"
  },
  "language_info": {
   "codemirror_mode": {
    "name": "ipython",
    "version": 3
   },
   "file_extension": ".py",
   "mimetype": "text/x-python",
   "name": "python",
   "nbconvert_exporter": "python",
   "pygments_lexer": "ipython3",
   "version": "3.9.12"
  }
 },
 "nbformat": 4,
 "nbformat_minor": 5
}
