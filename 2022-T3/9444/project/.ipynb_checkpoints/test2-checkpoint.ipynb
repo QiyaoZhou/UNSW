{
 "cells": [
  {
   "cell_type": "code",
   "execution_count": 1,
   "metadata": {
    "pycharm": {
     "name": "#%%\n"
    }
   },
   "outputs": [],
   "source": [
    "import torch\n",
    "import torch.nn as nn\n",
    "import torch.optim as optim\n",
    "import torchvision\n",
    "from torchvision import datasets, transforms\n",
    "import matplotlib.pyplot as plt\n",
    "import numpy as np\n",
    "import os\n",
    "%matplotlib inline"
   ]
  },
  {
   "cell_type": "markdown",
   "metadata": {
    "pycharm": {
     "name": "#%% md\n"
    }
   },
   "source": [
    "读取照片"
   ]
  },
  {
   "cell_type": "code",
   "execution_count": 2,
   "metadata": {
    "pycharm": {
     "name": "#%%\n"
    }
   },
   "outputs": [],
   "source": [
    "# 定义参数\n",
    "# input_size = 28 # 输入图像大小\n",
    "# num_classes = 2 # 标签的种类数\n",
    "# num_epochs = 3 # 训练的循环周期\n",
    "# batch_size = 7 # 一批次处理7张图片\n",
    "os.environ[\"KMP_DUPLICATE_LIB_OK\"]=\"TRUE\"\n",
    "\n",
    "# 数据增强\n",
    "data_transforms = {\n",
    "    'Train': transforms.Compose([\n",
    "        transforms.CenterCrop(224), # 随机裁剪为224*224, resnet要求\n",
    "        transforms.RandomHorizontalFlip(p=0.5), # 随机水平翻转，概率为0.5\n",
    "        # transforms.RandomRotation(45), # 随机旋转-45°到45°\n",
    "        # transforms.ColorJitter(brightness=0.2, contrast=0.1, saturation=0.1, hue=0.1), # 亮度，对比度，饱和度，色相\n",
    "        # transforms.RandomGrayscale(p=0.025), # 0.025概率随机变为灰度率\n",
    "        transforms.ToTensor(), # 变为张量\n",
    "        transforms.Normalize([0.485, 0.456, 0.406], [0.229, 0.224, 0.225]) # 均值 标准差\n",
    "    ]),\n",
    "    'Test': transforms.Compose([\n",
    "        transforms.Resize(256),\n",
    "        transforms.CenterCrop(224),\n",
    "        transforms.ToTensor(),\n",
    "        transforms.Normalize([0.485, 0.456, 0.406], [0.229, 0.224, 0.225])\n",
    "        ])\n",
    "}\n",
    "# 训练集\n",
    "data_dir = \"New Masks Dataset\"\n",
    "img_datasets = {x: datasets.ImageFolder(os.path.join(data_dir, x), data_transforms[x]) for x in ['Train', 'Test']}\n",
    "dataloaders = {x: torch.utils.data.DataLoader(img_datasets[x], batch_size=4,\n",
    "                                              shuffle=True, num_workers=4)\n",
    "               for x in ['Train', 'Test']}\n",
    "class_names = img_datasets['Train'].classes"
   ]
  },
  {
   "cell_type": "code",
   "execution_count": 3,
   "metadata": {
    "pycharm": {
     "name": "#%%\n"
    }
   },
   "outputs": [
    {
     "data": {
      "text/plain": [
       "{'Train': <torch.utils.data.dataloader.DataLoader at 0x27033cbd9a0>,\n",
       " 'Test': <torch.utils.data.dataloader.DataLoader at 0x27033cd7940>}"
      ]
     },
     "execution_count": 3,
     "metadata": {},
     "output_type": "execute_result"
    }
   ],
   "source": [
    "dataloaders"
   ]
  },
  {
   "cell_type": "markdown",
   "metadata": {
    "pycharm": {
     "name": "#%% md\n"
    }
   },
   "source": []
  },
  {
   "cell_type": "code",
   "execution_count": 4,
   "metadata": {
    "pycharm": {
     "name": "#%%\n"
    }
   },
   "outputs": [
    {
     "data": {
      "text/plain": [
       "Dataset ImageFolder\n",
       "    Number of datapoints: 8000\n",
       "    Root location: New Masks Dataset\\Train\n",
       "    StandardTransform\n",
       "Transform: Compose(\n",
       "               CenterCrop(size=(224, 224))\n",
       "               RandomHorizontalFlip(p=0.5)\n",
       "               ToTensor()\n",
       "               Normalize(mean=[0.485, 0.456, 0.406], std=[0.229, 0.224, 0.225])\n",
       "           )"
      ]
     },
     "execution_count": 4,
     "metadata": {},
     "output_type": "execute_result"
    }
   ],
   "source": [
    "img_datasets[\"Train\"]"
   ]
  },
  {
   "cell_type": "markdown",
   "metadata": {
    "pycharm": {
     "name": "#%% md\n"
    }
   },
   "source": []
  },
  {
   "cell_type": "markdown",
   "metadata": {
    "pycharm": {
     "name": "#%% md\n"
    }
   },
   "source": []
  },
  {
   "cell_type": "code",
   "execution_count": 5,
   "metadata": {
    "pycharm": {
     "name": "#%%\n"
    }
   },
   "outputs": [
    {
     "data": {
      "text/plain": [
       "['with_mask', 'without_mask']"
      ]
     },
     "execution_count": 5,
     "metadata": {},
     "output_type": "execute_result"
    }
   ],
   "source": [
    "class_names"
   ]
  },
  {
   "cell_type": "code",
   "execution_count": 6,
   "metadata": {
    "pycharm": {
     "name": "#%%\n"
    }
   },
   "outputs": [],
   "source": [
    "# datasets数据展示， 对数据加强中的数据进行逆操作\n",
    "def img_show(tensor, title=None):\n",
    "    image = tensor.numpy().transpose((1, 2, 0))\n",
    "\n",
    "    image = image * np.array((0.229, 0.224, 0.225) + np.array((0.485, 0.456, 0.406)))\n",
    "    image = image.clip(0, 1)\n",
    "    plt.imshow(image)\n",
    "    if title is not None:\n",
    "        plt.title(title)\n",
    "    plt.pause(0.001)"
   ]
  },
  {
   "cell_type": "markdown",
   "metadata": {
    "pycharm": {
     "name": "#%% md\n"
    }
   },
   "source": []
  },
  {
   "cell_type": "code",
   "execution_count": null,
   "metadata": {
    "pycharm": {
     "name": "#%%\n"
    }
   },
   "outputs": [],
   "source": [
    "inputs, classes = next(iter(dataloaders[\"Train\"]))\n",
    "out = torchvision.utils.make_grid(inputs)\n",
    "img_show(out, title=[class_names[x] for x in classes])"
   ]
  },
  {
   "cell_type": "code",
   "execution_count": null,
   "metadata": {
    "pycharm": {
     "name": "#%%\n"
    }
   },
   "outputs": [],
   "source": [
    "torchvision.models.list_models()"
   ]
  },
  {
   "cell_type": "markdown",
   "metadata": {
    "pycharm": {
     "name": "#%% md\n"
    }
   },
   "source": [
    "试一下resnet18"
   ]
  },
  {
   "cell_type": "code",
   "execution_count": null,
   "metadata": {
    "pycharm": {
     "name": "#%%\n"
    }
   },
   "outputs": [],
   "source": [
    "model_fit_ = torchvision.models.resnet18()\n",
    "model_fit_"
   ]
  },
  {
   "cell_type": "code",
   "execution_count": null,
   "metadata": {
    "pycharm": {
     "name": "#%%\n"
    }
   },
   "outputs": [],
   "source": [
    "# 使用out layer以前训练好的层\n",
    "feature_extract = True"
   ]
  },
  {
   "cell_type": "code",
   "execution_count": null,
   "metadata": {
    "pycharm": {
     "name": "#%%\n"
    }
   },
   "outputs": [],
   "source": [
    "def set_parameter_requires_grad(input_model, feature_extracting):\n",
    "    if feature_extracting:\n",
    "        for param in input_model.parameters():\n",
    "            param.requires_grad = False"
   ]
  },
  {
   "cell_type": "code",
   "execution_count": null,
   "metadata": {
    "pycharm": {
     "name": "#%%\n"
    }
   },
   "outputs": [],
   "source": [
    "def initialize_resnet18(extract_feature, num_out):\n",
    "    model_ft = torchvision.models.resnet18(weights=torchvision.models.ResNet18_Weights.IMAGENET1K_V1)\n",
    "    set_parameter_requires_grad(model_ft, extract_feature)\n",
    "    num_features = model_ft.fc.in_features\n",
    "    model_ft.fc = nn.Linear(num_features, num_out)\n",
    "    return model_ft"
   ]
  },
  {
   "cell_type": "markdown",
   "metadata": {
    "pycharm": {
     "name": "#%% md\n"
    }
   },
   "source": []
  },
  {
   "cell_type": "code",
   "execution_count": null,
   "metadata": {
    "pycharm": {
     "name": "#%%\n"
    }
   },
   "outputs": [],
   "source": [
    "model_ft = initialize_resnet18(True,2)\n",
    "model_ft"
   ]
  },
  {
   "cell_type": "markdown",
   "metadata": {
    "pycharm": {
     "name": "#%% md\n"
    }
   },
   "source": []
  },
  {
   "cell_type": "code",
   "execution_count": null,
   "metadata": {
    "pycharm": {
     "name": "#%%\n"
    }
   },
   "outputs": [],
   "source": [
    "\n",
    "print(\"需要学习调整的参数:\")\n",
    "\n",
    "if feature_extract:\n",
    "    params_to_update = []\n",
    "    for name, param in model_ft.named_parameters():\n",
    "        if param.requires_grad:\n",
    "            params_to_update.append(param)\n",
    "            print(\"\\t\", name)\n",
    "\n",
    "else:\n",
    "    for name, param in model_ft.named_parameters():\n",
    "        if param.requires_grad:\n",
    "            print(\"\\t\", name)\n"
   ]
  },
  {
   "cell_type": "markdown",
   "metadata": {
    "pycharm": {
     "name": "#%% md\n"
    }
   },
   "source": [
    "优化器"
   ]
  },
  {
   "cell_type": "code",
   "execution_count": null,
   "metadata": {
    "pycharm": {
     "name": "#%%\n"
    }
   },
   "outputs": [],
   "source": [
    "optimizer_ft = optim.SGD(model_ft.parameters(), lr=0.0005, momentum=0.1)\n",
    "criterion = nn.NLLLoss()"
   ]
  },
  {
   "cell_type": "markdown",
   "metadata": {
    "pycharm": {
     "name": "#%% md\n"
    }
   },
   "source": [
    "训练"
   ]
  },
  {
   "cell_type": "code",
   "execution_count": null,
   "metadata": {
    "pycharm": {
     "name": "#%%\n"
    }
   },
   "outputs": [],
   "source": [
    "loss_fn = nn.CrossEntropyLoss()\n",
    "# loss_fn = nn.NLLLoss()"
   ]
  },
  {
   "cell_type": "code",
   "execution_count": null,
   "metadata": {
    "pycharm": {
     "name": "#%%\n"
    }
   },
   "outputs": [],
   "source": [
    "print(dataloaders[\"Train\"])"
   ]
  },
  {
   "cell_type": "code",
   "execution_count": null,
   "metadata": {
    "pycharm": {
     "name": "#%%\n"
    }
   },
   "outputs": [],
   "source": [
    "for inputs, classes in dataloaders[\"Train\"]:\n",
    "    print(inputs)\n",
    "    print(\"classes\", classes)\n"
   ]
  },
  {
   "cell_type": "code",
   "execution_count": null,
   "metadata": {
    "pycharm": {
     "name": "#%%\n"
    }
   },
   "outputs": [],
   "source": [
    "for batch, sets in enumerate(dataloaders):\n",
    "    for i, (inputs, classes) in enumerate(dataloaders[\"Train\"]):\n",
    "        print(\"--------\",i)\n",
    "        print(inputs)\n",
    "        print(classes)"
   ]
  },
  {
   "cell_type": "code",
   "execution_count": null,
   "metadata": {
    "pycharm": {
     "name": "#%%\n"
    }
   },
   "outputs": [],
   "source": [
    "def train_loop(dataloader, model, loss_fn, optimizer):\n",
    "    size = len(dataloader.dataset)\n",
    "    for batch, (X, y) in enumerate(dataloader):\n",
    "        pred = model(X)\n",
    "        _, out_pred = torch.max(model(X), 1)\n",
    "\n",
    "        loss = loss_fn(pred, y)\n",
    "\n",
    "        optimizer.zero_grad()\n",
    "        loss.backward()\n",
    "        optimizer.step()\n",
    "        if batch % 8 == 0:\n",
    "            loss, current = loss.item(), batch * len(X)\n",
    "            print(f\"loss: {loss:>7f}  [{current:>5d}/{size:>5d}]\")\n",
    "\n",
    "            # 看一下，以后再删\n",
    "            print(\"predict\", out_pred)\n",
    "            print(\"target\", y)\n",
    "\n",
    "def test_loop(dataloader, model, loss_fn, acc_list, loss_list):\n",
    "    size = len(dataloader.dataset)\n",
    "    num_batches = len(dataloader)\n",
    "    test_loss, correct = 0, 0\n",
    "\n",
    "    with torch.no_grad():\n",
    "        for X, y in dataloader:\n",
    "            pred = model(X)\n",
    "            test_loss += loss_fn(pred, y).item()\n",
    "            correct += (pred.argmax(1) == y).type(torch.float).sum().item()\n",
    "\n",
    "    test_loss /= num_batches\n",
    "    correct /= size\n",
    "    acc_list.append(correct*100)\n",
    "    loss_list.append(test_loss)\n",
    "    print(f\"Test Error: \\n Accuracy: {(100*correct):>0.1f}%, Avg loss: {test_loss:>8f} \\n\")"
   ]
  },
  {
   "cell_type": "markdown",
   "metadata": {
    "pycharm": {
     "name": "#%% md\n"
    }
   },
   "source": []
  },
  {
   "cell_type": "code",
   "execution_count": null,
   "metadata": {
    "pycharm": {
     "name": "#%%\n"
    }
   },
   "outputs": [],
   "source": [
    "epochs = 50\n",
    "acc_list = []\n",
    "loss_list = []\n",
    "for t in range(epochs):\n",
    "    print(f\"Epoch {t+1}\\n-------------------------------\")\n",
    "    train_loop(dataloaders[\"Train\"], model_ft, loss_fn, optimizer_ft)\n",
    "    test_loop(dataloaders[\"Test\"], model_ft, loss_fn, acc_list, loss_list)\n",
    "print(\"Done!\")"
   ]
  },
  {
   "cell_type": "markdown",
   "metadata": {
    "pycharm": {
     "name": "#%% md\n"
    }
   },
   "source": [
    "图展示结果"
   ]
  },
  {
   "cell_type": "code",
   "execution_count": null,
   "metadata": {
    "pycharm": {
     "name": "#%%\n"
    }
   },
   "outputs": [],
   "source": [
    "acc_ = [68.0, 76.0, 81.0, 86.0, 79.0, 81.0, 84.0, 79.0, 85.0, 78.0, 82.0, 81.0, 87.0, 78.0, 82.0, 88.0, 86.0, 84.0, 86.0, 89.0, 91.0, 86.0, 83.0, 85.0, 81.0, 87.0, 87.0, 82.0, 88.0, 84.0, 85.0, 87.0, 87.0, 87.0, 87.0, 87.0, 92.0, 84.0, 90.0, 90.0, 88.0, 83.0, 86.0, 83.0, 84.0, 82.0, 89.0, 81.0, 92.0, 91.0]\n",
    "epoch_ = [i for i in range(1, 51)]\n",
    "loss_ = [0.614288, 0.557294, 0.487522, 0.457194, 0.488358, 0.435121, 0.383316, 0.467714, 0.406804, 0.456730, 0.426332, 0.433169, 0.369941, 0.486823, 0.397050, 0.340567, 0.354762, 0.371264, 0.376313, 0.313482, 0.323789, 0.341476, 0.321718, 0.380739, 0.398366, 0.373900, 0.312948, 0.385505, 0.318215, 0.344609, 0.361870, 0.359009, 0.351973, 0.338048, 0.316605, 0.327947, 0.265936, 0.327100, 0.270373, 0.284021, 0.303596, 0.365134, 0.355562, 0.389704, 0.334369, 0.415306, 0.312101, 0.382107, 0.291153, 0.263090]"
   ]
  },
  {
   "cell_type": "code",
   "execution_count": null,
   "metadata": {
    "pycharm": {
     "name": "#%%\n"
    }
   },
   "outputs": [],
   "source": [
    "def draw_acc_result(acc, epoch_time):\n",
    "    y = np.array(acc)\n",
    "    x = np.array(epoch_time)\n",
    "    plt.plot(x, y)\n",
    "\n",
    "    plt.title('Accuracy Epoch Line Chart')\n",
    "    plt.ylabel('y-accuracy')\n",
    "    plt.xlabel('x-epoch')\n",
    "    plt.show()"
   ]
  },
  {
   "cell_type": "code",
   "execution_count": null,
   "metadata": {
    "pycharm": {
     "name": "#%%\n"
    }
   },
   "outputs": [],
   "source": [
    "draw_acc_result(acc_, epoch_)"
   ]
  },
  {
   "cell_type": "code",
   "execution_count": null,
   "metadata": {
    "pycharm": {
     "name": "#%%\n"
    }
   },
   "outputs": [],
   "source": [
    "def draw_loss_result(loss, epoch_time):\n",
    "    y = np.array(loss)\n",
    "    x = np.array(epoch_time)\n",
    "    plt.plot(x, y)\n",
    "\n",
    "    plt.title('Loss Epoch Line Chart')\n",
    "    plt.ylabel('y-loss')\n",
    "    plt.xlabel('x-epoch')\n",
    "    plt.show()"
   ]
  },
  {
   "cell_type": "code",
   "execution_count": null,
   "metadata": {
    "pycharm": {
     "name": "#%%\n"
    }
   },
   "outputs": [],
   "source": [
    "draw_loss_result(loss_, epoch_)"
   ]
  },
  {
   "cell_type": "code",
   "execution_count": null,
   "metadata": {
    "pycharm": {
     "name": "#%%\n"
    }
   },
   "outputs": [],
   "source": []
  }
 ],
 "metadata": {
  "kernelspec": {
   "display_name": "Python 3 (ipykernel)",
   "language": "python",
   "name": "python3"
  },
  "language_info": {
   "codemirror_mode": {
    "name": "ipython",
    "version": 3
   },
   "file_extension": ".py",
   "mimetype": "text/x-python",
   "name": "python",
   "nbconvert_exporter": "python",
   "pygments_lexer": "ipython3",
   "version": "3.9.12"
  }
 },
 "nbformat": 4,
 "nbformat_minor": 1
}
